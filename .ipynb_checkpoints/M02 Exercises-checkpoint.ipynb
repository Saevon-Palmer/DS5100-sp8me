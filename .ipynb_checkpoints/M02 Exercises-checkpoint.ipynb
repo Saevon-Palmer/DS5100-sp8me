{
 "cells": [
  {
   "cell_type": "markdown",
   "id": "9bd87f51-78ab-4ff0-864a-0d48cc2625a7",
   "metadata": {},
   "source": [
    "# Exercise 2.1"
   ]
  },
  {
   "cell_type": "code",
   "execution_count": 1,
   "id": "ffaf6520-65a9-406b-b195-2e863f23ef67",
   "metadata": {
    "tags": []
   },
   "outputs": [
    {
     "data": {
      "text/plain": [
       "True"
      ]
     },
     "execution_count": 1,
     "metadata": {},
     "output_type": "execute_result"
    }
   ],
   "source": [
    "mystring = \"chocolate\"\n",
    "len(mystring)>=6"
   ]
  },
  {
   "cell_type": "code",
   "execution_count": 2,
   "id": "00021f08-d469-42ac-a8ff-0eab5e49ddbb",
   "metadata": {
    "tags": []
   },
   "outputs": [
    {
     "data": {
      "text/plain": [
       "'cho'"
      ]
     },
     "execution_count": 2,
     "metadata": {},
     "output_type": "execute_result"
    }
   ],
   "source": [
    "mystring[:3]"
   ]
  },
  {
   "cell_type": "code",
   "execution_count": 3,
   "id": "7a30517d-f082-4856-ba71-015b6960b1f1",
   "metadata": {
    "tags": []
   },
   "outputs": [
    {
     "data": {
      "text/plain": [
       "'ate'"
      ]
     },
     "execution_count": 3,
     "metadata": {},
     "output_type": "execute_result"
    }
   ],
   "source": [
    "mystring[-3:]\n"
   ]
  },
  {
   "cell_type": "markdown",
   "id": "e8873f19-42ac-4c6e-a348-5bdd8abedb66",
   "metadata": {},
   "source": [
    "# Exercise 2.2"
   ]
  },
  {
   "cell_type": "code",
   "execution_count": 4,
   "id": "47969db7-29bd-4210-8834-6ac5d62cd167",
   "metadata": {
    "tags": []
   },
   "outputs": [
    {
     "data": {
      "text/plain": [
       "'second'"
      ]
     },
     "execution_count": 4,
     "metadata": {},
     "output_type": "execute_result"
    }
   ],
   "source": [
    "list_my = []\n",
    "list_my.append('first')\n",
    "list_my.append('second')\n",
    "list_my.append('third')\n",
    "list_my[1]"
   ]
  },
  {
   "cell_type": "code",
   "execution_count": 5,
   "id": "212349fc-f1e8-44aa-9477-897ddb47ba0b",
   "metadata": {
    "tags": []
   },
   "outputs": [
    {
     "data": {
      "text/plain": [
       "'second'"
      ]
     },
     "execution_count": 5,
     "metadata": {},
     "output_type": "execute_result"
    }
   ],
   "source": [
    "list_my = ['first','second','third']\n",
    "list_my[1]"
   ]
  },
  {
   "cell_type": "code",
   "execution_count": 18,
   "id": "d24794ac-4f85-4f31-8714-3205679932e7",
   "metadata": {
    "tags": []
   },
   "outputs": [],
   "source": [
    "list_my2 = ['foo']"
   ]
  },
  {
   "cell_type": "code",
   "execution_count": 19,
   "id": "72ffab68-044b-40ad-99c8-fb62715dde59",
   "metadata": {
    "tags": []
   },
   "outputs": [
    {
     "ename": "IndexError",
     "evalue": "list assignment index out of range",
     "output_type": "error",
     "traceback": [
      "\u001b[0;31m---------------------------------------------------------------------------\u001b[0m",
      "\u001b[0;31mIndexError\u001b[0m                                Traceback (most recent call last)",
      "Cell \u001b[0;32mIn[19], line 1\u001b[0m\n\u001b[0;32m----> 1\u001b[0m \u001b[43mlist_my2\u001b[49m\u001b[43m[\u001b[49m\u001b[38;5;241;43m1\u001b[39;49m\u001b[43m]\u001b[49m \u001b[38;5;241m=\u001b[39m \u001b[38;5;124m'\u001b[39m\u001b[38;5;124mbar\u001b[39m\u001b[38;5;124m'\u001b[39m\n",
      "\u001b[0;31mIndexError\u001b[0m: list assignment index out of range"
     ]
    }
   ],
   "source": [
    "list_my2[1] = 'bar'\n"
   ]
  },
  {
   "cell_type": "markdown",
   "id": "add0689c-2014-434b-b1d8-888782e8f142",
   "metadata": {},
   "source": [
    "# Exercise 2.3"
   ]
  },
  {
   "cell_type": "code",
   "execution_count": 14,
   "id": "d39fa285-b5a4-40cb-a13c-d5c63ab14f72",
   "metadata": {
    "tags": []
   },
   "outputs": [],
   "source": [
    "tuple_my = 1, 2, 3"
   ]
  },
  {
   "cell_type": "code",
   "execution_count": 15,
   "id": "cb3278e1-a60e-4bb1-b401-35da5a6edd37",
   "metadata": {
    "tags": []
   },
   "outputs": [],
   "source": [
    "tuple_my = (1, 2, 3)"
   ]
  },
  {
   "cell_type": "code",
   "execution_count": 16,
   "id": "fe326740-d114-48b4-a39e-2ab3f3a58af3",
   "metadata": {
    "tags": []
   },
   "outputs": [
    {
     "ename": "SyntaxError",
     "evalue": "invalid syntax (1863303737.py, line 1)",
     "output_type": "error",
     "traceback": [
      "\u001b[0;36m  Cell \u001b[0;32mIn[16], line 1\u001b[0;36m\u001b[0m\n\u001b[0;31m    tuple_my tuple[(1, 2, 3)]\u001b[0m\n\u001b[0m             ^\u001b[0m\n\u001b[0;31mSyntaxError\u001b[0m\u001b[0;31m:\u001b[0m invalid syntax\n"
     ]
    }
   ],
   "source": [
    "tuple_my tuple[(1, 2, 3)]"
   ]
  },
  {
   "cell_type": "code",
   "execution_count": 17,
   "id": "baef8069-982c-41ec-9d6d-549024b8e3cf",
   "metadata": {
    "tags": []
   },
   "outputs": [
    {
     "ename": "AttributeError",
     "evalue": "'tuple' object has no attribute 'append'",
     "output_type": "error",
     "traceback": [
      "\u001b[0;31m---------------------------------------------------------------------------\u001b[0m",
      "\u001b[0;31mAttributeError\u001b[0m                            Traceback (most recent call last)",
      "Cell \u001b[0;32mIn[17], line 1\u001b[0m\n\u001b[0;32m----> 1\u001b[0m \u001b[43mtuple_my\u001b[49m\u001b[38;5;241;43m.\u001b[39;49m\u001b[43mappend\u001b[49m(\u001b[38;5;241m4\u001b[39m)\n",
      "\u001b[0;31mAttributeError\u001b[0m: 'tuple' object has no attribute 'append'"
     ]
    }
   ],
   "source": [
    "tuple_my.append(4)"
   ]
  },
  {
   "cell_type": "code",
   "execution_count": null,
   "id": "1ac0e857-74eb-4675-bdc8-a2c62f933066",
   "metadata": {},
   "outputs": [],
   "source": [
    "#Exercise 2.4"
   ]
  },
  {
   "cell_type": "code",
   "execution_count": 12,
   "id": "6f873a8a-40b0-4003-9232-23dbf6ea5537",
   "metadata": {
    "tags": []
   },
   "outputs": [],
   "source": [
    "value = \"Error\" \n",
    "decible = {'Warn','Error','Critical'}"
   ]
  },
  {
   "cell_type": "code",
   "execution_count": 13,
   "id": "3f6740b0-f579-41a4-933f-03c8c52221be",
   "metadata": {
    "tags": []
   },
   "outputs": [
    {
     "data": {
      "text/plain": [
       "True"
      ]
     },
     "execution_count": 13,
     "metadata": {},
     "output_type": "execute_result"
    }
   ],
   "source": [
    "value in decible "
   ]
  },
  {
   "cell_type": "code",
   "execution_count": 10,
   "id": "2b765596-56ac-46a1-87c8-4b54f3c1a095",
   "metadata": {
    "tags": []
   },
   "outputs": [],
   "source": [
    "levels = {'Warn','Error','Critcal','Warn','Error','Critical'} "
   ]
  },
  {
   "cell_type": "code",
   "execution_count": 11,
   "id": "44b0b735-9323-4dcb-a429-e60d74df4ea0",
   "metadata": {
    "tags": []
   },
   "outputs": [
    {
     "data": {
      "text/plain": [
       "{'Critcal', 'Critical', 'Error', 'Warn'}"
      ]
     },
     "execution_count": 11,
     "metadata": {},
     "output_type": "execute_result"
    }
   ],
   "source": [
    "levels"
   ]
  },
  {
   "cell_type": "code",
   "execution_count": null,
   "id": "efa9e670-4904-4697-bba3-a8ff41376d75",
   "metadata": {},
   "outputs": [],
   "source": [
    "#Exercise 2.5"
   ]
  },
  {
   "cell_type": "code",
   "execution_count": 20,
   "id": "dd6e2427-58df-4f3d-9c99-974c1a7f793e",
   "metadata": {
    "tags": []
   },
   "outputs": [],
   "source": [
    "nombre_age = { \"john\": 23, \"greta\" : 17, \"jackson\": 28 }"
   ]
  },
  {
   "cell_type": "code",
   "execution_count": 21,
   "id": "9c6a6ead-a3bc-4ba4-b9f0-260d047ce6d4",
   "metadata": {
    "tags": []
   },
   "outputs": [
    {
     "name": "stdout",
     "output_type": "stream",
     "text": [
      "nombre_age['john'] = 23\n"
     ]
    }
   ],
   "source": [
    "print(\"nombre_age['john'] =\", nombre_age.get('john'))"
   ]
  },
  {
   "cell_type": "code",
   "execution_count": 22,
   "id": "6f679b35-c021-4e6c-b742-7cedc024624b",
   "metadata": {
    "tags": []
   },
   "outputs": [],
   "source": [
    "nombres = list(nombre_age.keys())"
   ]
  },
  {
   "cell_type": "code",
   "execution_count": 23,
   "id": "b29a48c8-dfec-44f9-b29b-9651530eac0f",
   "metadata": {
    "tags": []
   },
   "outputs": [
    {
     "name": "stdout",
     "output_type": "stream",
     "text": [
      "nombres: ['john', 'greta', 'jackson']\n"
     ]
    }
   ],
   "source": [
    "print('nombres:', nombres)"
   ]
  },
  {
   "cell_type": "code",
   "execution_count": 24,
   "id": "9ab1d714-15cc-4a34-af2d-37e947595f24",
   "metadata": {
    "tags": []
   },
   "outputs": [
    {
     "data": {
      "text/plain": [
       "(dict_keys, list)"
      ]
     },
     "execution_count": 24,
     "metadata": {},
     "output_type": "execute_result"
    }
   ],
   "source": [
    "type(nombre_age.keys()), type(nombres)"
   ]
  },
  {
   "cell_type": "code",
   "execution_count": null,
   "id": "d40e0367-447a-4b9a-88dc-634adbc1a9b2",
   "metadata": {},
   "outputs": [],
   "source": [
    "#Exercise 2.6"
   ]
  },
  {
   "cell_type": "code",
   "execution_count": 25,
   "id": "ededb29d-ab58-4e16-b8fa-0803f2a4b2c4",
   "metadata": {
    "tags": []
   },
   "outputs": [],
   "source": [
    "string_my = \"The cat in the hat took my food.\""
   ]
  },
  {
   "cell_type": "code",
   "execution_count": 26,
   "id": "c87e11de-e0d7-41e1-93dd-35c91b1f823d",
   "metadata": {
    "tags": []
   },
   "outputs": [
    {
     "data": {
      "text/plain": [
       "['The', 'cat', 'in', 'the', 'hat', 'took', 'my', 'food']"
      ]
     },
     "execution_count": 26,
     "metadata": {},
     "output_type": "execute_result"
    }
   ],
   "source": [
    "string_my1 = string_my.replace('.', '')\n",
    "string_my2 = string_my1.lower()\n",
    "string_my3 = string_my1.split()\n",
    "string_my3"
   ]
  },
  {
   "cell_type": "code",
   "execution_count": 27,
   "id": "4c790759-f621-4b36-a33e-824907704d02",
   "metadata": {
    "tags": []
   },
   "outputs": [
    {
     "data": {
      "text/plain": [
       "['The', 'cat', 'food', 'hat', 'in', 'my', 'the', 'took']"
      ]
     },
     "execution_count": 27,
     "metadata": {},
     "output_type": "execute_result"
    }
   ],
   "source": [
    "my_set1 = set(string_my3)\n",
    "my_set2 = sorted(my_set1)\n",
    "my_set2"
   ]
  },
  {
   "cell_type": "code",
   "execution_count": 28,
   "id": "2cb59d14-944a-4e40-9b48-20fe517fea3e",
   "metadata": {
    "tags": []
   },
   "outputs": [
    {
     "data": {
      "text/plain": [
       "['cat', 'food', 'hat', 'in', 'my', 'the', 'took']"
      ]
     },
     "execution_count": 28,
     "metadata": {},
     "output_type": "execute_result"
    }
   ],
   "source": [
    "sorted(set(string_my.replace('.', '').lower().split()))"
   ]
  },
  {
   "cell_type": "code",
   "execution_count": null,
   "id": "0838a4e5-65ea-486d-ad92-2a50b49ee31a",
   "metadata": {},
   "outputs": [],
   "source": [
    "#Exercise 2.7"
   ]
  },
  {
   "cell_type": "code",
   "execution_count": 29,
   "id": "0537ae76-0476-4083-af68-f2487f449b3b",
   "metadata": {
    "tags": []
   },
   "outputs": [],
   "source": [
    "my_list = string_my.replace('.', '').lower().split()\n",
    "my_set = set(my_list)"
   ]
  },
  {
   "cell_type": "code",
   "execution_count": 30,
   "id": "55f309ea-629e-4437-8d46-70d4827c210d",
   "metadata": {
    "tags": []
   },
   "outputs": [
    {
     "data": {
      "text/plain": [
       "False"
      ]
     },
     "execution_count": 30,
     "metadata": {},
     "output_type": "execute_result"
    }
   ],
   "source": [
    "len(my_list) == len(my_set)"
   ]
  },
  {
   "cell_type": "code",
   "execution_count": 31,
   "id": "99e3f514-25f7-46a7-bc61-cafb1afb2fd1",
   "metadata": {
    "tags": []
   },
   "outputs": [
    {
     "data": {
      "text/plain": [
       "1"
      ]
     },
     "execution_count": 31,
     "metadata": {},
     "output_type": "execute_result"
    }
   ],
   "source": [
    "abs(len(my_list) - len(my_set))"
   ]
  },
  {
   "cell_type": "code",
   "execution_count": null,
   "id": "8ec6ab9d-ab95-4578-b115-4a53bd066234",
   "metadata": {},
   "outputs": [],
   "source": [
    "#Exercise 2.8"
   ]
  },
  {
   "cell_type": "code",
   "execution_count": 32,
   "id": "682e0169-16a5-4954-bb98-2bc915ce306f",
   "metadata": {
    "tags": []
   },
   "outputs": [
    {
     "name": "stdout",
     "output_type": "stream",
     "text": [
      "watashi 5, ado Energy, ten 2.3\n"
     ]
    }
   ],
   "source": [
    "watashi = 5\n",
    "ado = \"Energy\"\n",
    "ten = 2.3\n",
    "\n",
    "print(f\"watashi {watashi}, ado {ado}, ten {ten}\")"
   ]
  },
  {
   "cell_type": "code",
   "execution_count": null,
   "id": "7506dbbb-b531-4a39-9f5b-5fdede2cf51d",
   "metadata": {},
   "outputs": [],
   "source": [
    "#Exercise 2.9"
   ]
  },
  {
   "cell_type": "code",
   "execution_count": 33,
   "id": "a01d4e10-c221-4d88-913a-2c62ad653d62",
   "metadata": {
    "tags": []
   },
   "outputs": [],
   "source": [
    "var_1 = 2.3\n",
    "var_2 = 6.9\n",
    "var_3 = int(var_1 // var_2)"
   ]
  },
  {
   "cell_type": "code",
   "execution_count": 34,
   "id": "680fcc11-d039-44a0-8e93-cb397eb8bed3",
   "metadata": {
    "tags": []
   },
   "outputs": [
    {
     "data": {
      "text/plain": [
       "0.0"
      ]
     },
     "execution_count": 34,
     "metadata": {},
     "output_type": "execute_result"
    }
   ],
   "source": [
    "var_1 // var_2"
   ]
  },
  {
   "cell_type": "code",
   "execution_count": 35,
   "id": "7b528e9c-a4a7-4197-aac1-704e1f699bd7",
   "metadata": {
    "tags": []
   },
   "outputs": [
    {
     "data": {
      "text/plain": [
       "0"
      ]
     },
     "execution_count": 35,
     "metadata": {},
     "output_type": "execute_result"
    }
   ],
   "source": [
    "var_3"
   ]
  },
  {
   "cell_type": "code",
   "execution_count": 36,
   "id": "08b70710-c94e-4947-9c08-0e43b075d323",
   "metadata": {
    "tags": []
   },
   "outputs": [],
   "source": [
    "quiz = var_3 < 0"
   ]
  },
  {
   "cell_type": "code",
   "execution_count": 37,
   "id": "667dcbf9-5049-4e06-a3b7-f9c742cb8b9b",
   "metadata": {
    "tags": []
   },
   "outputs": [
    {
     "name": "stdout",
     "output_type": "stream",
     "text": [
      "False\n"
     ]
    }
   ],
   "source": [
    "print(quiz)\n"
   ]
  },
  {
   "cell_type": "code",
   "execution_count": null,
   "id": "62fe2c52-88d4-4d5b-bad1-c32e071381cd",
   "metadata": {},
   "outputs": [],
   "source": [
    "#Exercise 2.10"
   ]
  },
  {
   "cell_type": "code",
   "execution_count": 40,
   "id": "f24d5b95-17e9-4f0e-9b98-41b2960bed66",
   "metadata": {
    "tags": []
   },
   "outputs": [],
   "source": [
    "story = \"\"\"\n",
    "He had a cat, He had a gnat, \n",
    "\\t I had never known that.\n",
    "\\tWhat a story he had told. \n",
    "\\t\\tLike a diamond in the sky. \n",
    "Twinkle, twinkle, little star, \n",
    "\\tHow I wonder what you are!\n",
    "\"\"\""
   ]
  },
  {
   "cell_type": "code",
   "execution_count": 41,
   "id": "472fcddd-2374-4507-a916-d2746d3c5f52",
   "metadata": {
    "tags": []
   },
   "outputs": [
    {
     "name": "stdout",
     "output_type": "stream",
     "text": [
      "\n",
      "He had a cat, He had a gnat, \n",
      "\t I had never known that.\n",
      "\tWhat a story he had told. \n",
      "\t\tLike a diamond in the sky. \n",
      "Twinkle, twinkle, little star, \n",
      "\tHow I wonder what you are!\n",
      "\n"
     ]
    }
   ],
   "source": [
    "print(story)"
   ]
  },
  {
   "cell_type": "code",
   "execution_count": null,
   "id": "6699965a-9c94-4618-a270-443f13fffb50",
   "metadata": {},
   "outputs": [],
   "source": [
    "#Exercise 2.11"
   ]
  },
  {
   "cell_type": "code",
   "execution_count": 42,
   "id": "7e0395bd-cf02-4279-850a-801ad4b1f616",
   "metadata": {
    "tags": []
   },
   "outputs": [],
   "source": [
    "a = 0.25 + 0.25\n",
    "b = 0.3 + 0.2"
   ]
  },
  {
   "cell_type": "code",
   "execution_count": 43,
   "id": "ccd7e68b-2dde-4459-9b23-5d32231effab",
   "metadata": {
    "tags": []
   },
   "outputs": [
    {
     "data": {
      "text/plain": [
       "True"
      ]
     },
     "execution_count": 43,
     "metadata": {},
     "output_type": "execute_result"
    }
   ],
   "source": [
    "a == b"
   ]
  },
  {
   "cell_type": "code",
   "execution_count": 44,
   "id": "01b81c96-c2b0-44b6-849f-be4751b03b05",
   "metadata": {
    "tags": []
   },
   "outputs": [
    {
     "data": {
      "text/plain": [
       "(0.5, 0.5)"
      ]
     },
     "execution_count": 44,
     "metadata": {},
     "output_type": "execute_result"
    }
   ],
   "source": [
    "a, b"
   ]
  },
  {
   "cell_type": "code",
   "execution_count": null,
   "id": "7853d2e5-4aee-4123-a5c7-ffd4dd6d4cb3",
   "metadata": {},
   "outputs": [],
   "source": []
  }
 ],
 "metadata": {
  "kernelspec": {
   "display_name": "Python 3 (ipykernel)",
   "language": "python",
   "name": "python3"
  },
  "language_info": {
   "codemirror_mode": {
    "name": "ipython",
    "version": 3
   },
   "file_extension": ".py",
   "mimetype": "text/x-python",
   "name": "python",
   "nbconvert_exporter": "python",
   "pygments_lexer": "ipython3",
   "version": "3.11.4"
  }
 },
 "nbformat": 4,
 "nbformat_minor": 5
}
