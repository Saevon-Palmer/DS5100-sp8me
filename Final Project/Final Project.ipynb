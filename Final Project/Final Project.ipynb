{
 "cells": [
  {
   "cell_type": "markdown",
   "id": "45762487-d33f-486d-8e38-2cdea04e3528",
   "metadata": {},
   "source": [
    "# Final Project Report\n",
    "\n",
    "* Class: DS 5100\n",
    "* Student Name: Sae'von Palmer\n",
    "* Student Net ID: sp8me\n",
    "* This URL: a URL to the notebook source of this document"
   ]
  },
  {
   "cell_type": "markdown",
   "id": "acf756c1-ecaa-41dc-b6ca-d566eb94560b",
   "metadata": {},
   "source": [
    "# Instructions\n",
    "\n",
    "Follow the instructions in the Final Project isntructions notebook and put evidence of your work in this notebook.\n",
    "\n",
    "Total points for each subsection under **Deliverables** and **Scenarios** are given in parentheses.\n",
    "\n",
    "Breakdowns of points within subsections are specified within subsection instructions as bulleted lists.\n",
    "\n",
    "This project is worth **50 points**."
   ]
  },
  {
   "cell_type": "markdown",
   "id": "89dc7a32-f682-4402-8c1e-b6ccdb3e0e39",
   "metadata": {},
   "source": [
    "# Deliverables"
   ]
  },
  {
   "cell_type": "markdown",
   "id": "d32cb273-9a40-4909-a7ce-51f6e4958d3c",
   "metadata": {},
   "source": [
    "## The Monte Carlo Module (10)\n",
    "\n",
    "- URL included, appropriately named (1).\n",
    "- Includes all three specified classes (3).\n",
    "- Includes at least all 12 specified methods (6; .5 each)."
   ]
  },
  {
   "cell_type": "markdown",
   "id": "f5f3b070-de9e-4de9-bfae-8974d184aa28",
   "metadata": {},
   "source": [
    "Put the URL to your GitHub repo here.\n",
    "\n",
    "Repo URL: https://github.com/Saevon-Palmer/DS5100-sp8me/Final%20Project"
   ]
  },
  {
   "cell_type": "markdown",
   "id": "162370fb-3729-4c85-b040-8c25b2c966d2",
   "metadata": {},
   "source": [
    "Paste a copyy of your module here.\n",
    "\n",
    "NOTE: Paste as text, not as code. Use triple backticks to wrap your code blocks."
   ]
  },
  {
   "cell_type": "raw",
   "id": "bc44622d-c51a-418b-a629-84aa4393808d",
   "metadata": {},
   "source": [
    "```python\n",
    "import numpy as np\n",
    "import pandas as pd\n",
    "\n",
    "class Die:\n",
    "    \"\"\"\n",
    "    A die has N faces and associated weights. Faces can be rolled randomly.\n",
    "    Faces may be numeric or strings.\n",
    "    \"\"\"\n",
    "\n",
    "    def __init__(self, faces: np.ndarray):\n",
    "        \"\"\"\n",
    "        Initializes the Die object.\n",
    "\n",
    "        Arguments:\n",
    "            faces (np.ndarray): Array of faces (strings or numbers).\n",
    "\n",
    "        Raises:\n",
    "            TypeError: If faces is not a numpy array.\n",
    "            ValueError: If faces are not unique.\n",
    "        \"\"\"\n",
    "        if not isinstance(faces, np.ndarray):\n",
    "            raise TypeError(\"Faces must be a NumPy array.\")\n",
    "        if len(faces) != len(np.unique(faces)):\n",
    "            raise ValueError(\"Faces must be unique.\")\n",
    "\n",
    "        self._df = pd.DataFrame({'face': faces, 'weight': np.ones(len(faces))})\n",
    "        self._df.set_index('face', inplace=True)\n",
    "\n",
    "    def change_weight(self, face, new_weight):\n",
    "        \"\"\"\n",
    "        Changes the weight of a given face.\n",
    "\n",
    "        Arguments:\n",
    "            face: The face to change.\n",
    "            new_weight: The new weight (must be numeric).\n",
    "\n",
    "        Raises:\n",
    "            IndexError: If face is not found.\n",
    "            TypeError: If new_weight is not numeric.\n",
    "        \"\"\"\n",
    "        if face not in self._df.index:\n",
    "            raise IndexError(\"Face not found.\")\n",
    "        try:\n",
    "            new_weight = float(new_weight)\n",
    "        except ValueError:\n",
    "            raise TypeError(\"New weight must be numeric.\")\n",
    "\n",
    "        self._df.at[face, 'weight'] = new_weight\n",
    "\n",
    "    def roll(self, n_rolls=1):\n",
    "        \"\"\"\n",
    "        Rolls the die n times.\n",
    "\n",
    "        Arguments:\n",
    "            n_rolls (int): Number of rolls.\n",
    "\n",
    "        Returns:\n",
    "            list: Outcomes of rolls.\n",
    "        \"\"\"\n",
    "        return list(\n",
    "            self._df.sample(n=n_rolls, weights=self._df['weight'], replace=True).index\n",
    "        )\n",
    "\n",
    "    def show(self):\n",
    "        \"\"\"\n",
    "        Shows the die's faces and current weights.\n",
    "\n",
    "        Returns:\n",
    "            pd.DataFrame: Faces and weights.\n",
    "        \"\"\"\n",
    "        return self._df.copy()\n",
    "```\n",
    "\n",
    "```\n",
    "class Game:\n",
    "    \"\"\"\n",
    "    A game consists of rolling one or more similar dice one or more times.\n",
    "    \"\"\"\n",
    "\n",
    "    def __init__(self, dice: list):\n",
    "        \"\"\"\n",
    "        Initializes the Game object.\n",
    "\n",
    "        Args:\n",
    "            dice (list): List of Die objects.\n",
    "        \"\"\"\n",
    "        self._dice = dice\n",
    "        self._results = None\n",
    "\n",
    "    def play(self, n_rolls):\n",
    "        \"\"\"\n",
    "        Plays the game: roll all dice n times.\n",
    "\n",
    "        Arguments:\n",
    "            n_rolls (int): Number of times to roll all dice.\n",
    "        \"\"\"\n",
    "        rolls = {}\n",
    "        for i, die in enumerate(self._dice):\n",
    "            rolls[i] = die.roll(n_rolls)\n",
    "\n",
    "        self._results = pd.DataFrame(rolls)\n",
    "        self._results.index.name = 'Roll Number'\n",
    "\n",
    "    def show(self, form='wide'):\n",
    "        \"\"\"\n",
    "        Shows the results of the most recent play.\n",
    "\n",
    "        Arguments:\n",
    "            form (str): 'wide' or 'narrow' format.\n",
    "\n",
    "        Returns:\n",
    "            pd.DataFrame: Results in requested format.\n",
    "\n",
    "        Raises:\n",
    "            ValueError: If form is not 'wide' or 'narrow'.\n",
    "        \"\"\"\n",
    "        if form == 'wide':\n",
    "            return self._results.copy()\n",
    "        elif form == 'narrow':\n",
    "            return self._results.stack().to_frame('Outcome')\n",
    "        else:\n",
    "            raise ValueError(\"Form must be 'wide' or 'narrow'.\")\n",
    "```\n",
    "\n",
    "```\n",
    "class Analyzer:\n",
    "    \"\"\"\n",
    "    Analyzes the results of a Game.\n",
    "    \"\"\"\n",
    "\n",
    "    def __init__(self, game: Game):\n",
    "        \"\"\"\n",
    "        Initializes the Analyzer.\n",
    "\n",
    "        Arguments:\n",
    "            game (Game): A Game object.\n",
    "\n",
    "        Raises:\n",
    "            ValueError: If input is not a Game object.\n",
    "        \"\"\"\n",
    "        if not isinstance(game, Game):\n",
    "            raise ValueError(\"Input must be a Game object.\")\n",
    "        self._game = game\n",
    "\n",
    "    def jackpot(self):\n",
    "        \"\"\"\n",
    "        Counts the number of jackpots (all faces the same).\n",
    "\n",
    "        Returns:\n",
    "            int: Number of jackpots.\n",
    "        \"\"\"\n",
    "        return (self._game._results.nunique(axis=1) == 1).sum()\n",
    "\n",
    "    def face_counts_per_roll(self):\n",
    "        \"\"\"\n",
    "        Counts the number of each face per roll.\n",
    "\n",
    "        Returns:\n",
    "            pd.DataFrame: Counts of each face per roll.\n",
    "        \"\"\"\n",
    "        return self._game._results.apply(pd.Series.value_counts, axis=1).fillna(0)\n",
    "\n",
    "    def combo_count(self):\n",
    "        \"\"\"\n",
    "        Counts distinct combinations of faces rolled.\n",
    "\n",
    "        Returns:\n",
    "            pd.DataFrame: Combination counts (order-independent).\n",
    "        \"\"\"\n",
    "        combos = self._game._results.apply(lambda x: tuple(sorted(x)), axis=1)\n",
    "        combo_counts = combos.value_counts().to_frame('Count')\n",
    "        combo_counts.index.name = 'Combination'\n",
    "        return combo_counts\n",
    "\n",
    "    def permutation_count(self):\n",
    "        \"\"\"\n",
    "        Counts distinct permutations of faces rolled.\n",
    "\n",
    "        Returns:\n",
    "            pd.DataFrame: Permutation counts (order-dependent).\n",
    "        \"\"\"\n",
    "        perms = self._game._results.apply(lambda x: tuple(x), axis=1)\n",
    "        perm_counts = perms.value_counts().to_frame('Count')\n",
    "        perm_counts.index.name = 'Permutation'\n",
    "        return perm_counts\n",
    "    ```"
   ]
  },
  {
   "cell_type": "markdown",
   "id": "6377727a-8f0a-491e-9f1c-d9dc225edd35",
   "metadata": {
    "tags": []
   },
   "source": [
    "## Unitest Module (2)\n",
    "\n",
    "Paste a copy of your test module below.\n",
    "\n",
    "NOTE: Paste as text, not as code. Use triple backticks to wrap your code blocks.\n",
    "\n",
    "- All methods have at least one test method (1).\n",
    "- Each method employs one of Unittest's Assert methods (1)."
   ]
  },
  {
   "cell_type": "raw",
   "id": "af4962bc-5a7b-4aa3-b671-de7886a1562b",
   "metadata": {},
   "source": [
    "```python\n",
    "import unittest\n",
    "import numpy as np\n",
    "import pandas as pd\n",
    "from montecarlo import Die, Game, Analyzer\n",
    "\n",
    "class TestDie(unittest.TestCase):\n",
    "    \"\"\"Unit tests for the Die class.\"\"\"\n",
    "\n",
    "    def setUp(self):\n",
    "        \"\"\"Set up a Die instance with faces 1, 2, 3.\"\"\"\n",
    "        self.faces = np.array([1, 2, 3])\n",
    "        self.die = Die(self.faces)\n",
    "\n",
    "    def test_init(self):\n",
    "        \"\"\"Test that Die is initialized with correct number of faces.\"\"\"\n",
    "        self.assertEqual(len(self.die.show()), 3)\n",
    "\n",
    "    def test_change_weight(self):\n",
    "        \"\"\"Test that changing a face's weight works correctly.\"\"\"\n",
    "        self.die.change_weight(1, 5)\n",
    "        self.assertEqual(self.die.show().loc[1, 'weight'], 5.0)\n",
    "\n",
    "    def test_roll(self):\n",
    "        \"\"\"Test that rolling the die returns the correct number of results.\"\"\"\n",
    "        result = self.die.roll(5)\n",
    "        self.assertEqual(len(result), 5)\n",
    "\n",
    "    def test_show(self):\n",
    "        \"\"\"Test that show() returns a pandas DataFrame.\"\"\"\n",
    "        self.assertIsInstance(self.die.show(), pd.DataFrame)\n",
    "        \n",
    "    def test_roll_faces(self):\n",
    "        \"\"\"Test that roll produces only valid faces.\"\"\"\n",
    "        result = self.die.roll(10)\n",
    "        for face in result:\n",
    "            self.assertIn(face, self.faces)\n",
    "\n",
    "\n",
    "class TestGame(unittest.TestCase):\n",
    "    \"\"\"Unit tests for the Game class.\"\"\"\n",
    "    def setUp(self):\n",
    "        \"\"\"Set up a Game instance with two identical dice.\"\"\"\n",
    "        die1 = Die(np.array([1, 2, 3]))\n",
    "        die2 = Die(np.array([1, 2, 3]))\n",
    "        self.game = Game([die1, die2])\n",
    "\n",
    "    def test_play(self):\n",
    "        \"\"\"Test that play() rolls the dice correct number of times.\"\"\"\n",
    "        self.game.play(5)\n",
    "        self.assertEqual(self.game._results.shape[0], 5)\n",
    "\n",
    "    def test_show_wide(self):\n",
    "        \"\"\"Test that show('wide') returns results with one column per die.\"\"\"\n",
    "        self.game.play(3)\n",
    "        df = self.game.show('wide')\n",
    "        self.assertEqual(df.shape[1], 2)  # 2 dice\n",
    "\n",
    "    def test_show_narrow(self):\n",
    "        \"\"\"Test that show('narrow') returns a DataFrame with correct index names.\"\"\"\n",
    "        self.game.play(3)\n",
    "        df = self.game.show('narrow')\n",
    "        self.assertEqual(df.index.names, ['Roll Number', None])  # FIXED\n",
    "\n",
    "\n",
    "class TestAnalyzer(unittest.TestCase):\n",
    "    \"\"\"Unit tests for the Analyzer class.\"\"\"\n",
    "\n",
    "    def setUp(self):\n",
    "        \"\"\"Set up an Analyzer with a Game of two dice.\"\"\"\n",
    "        die1 = Die(np.array([1, 2, 3]))\n",
    "        die2 = Die(np.array([1, 2, 3]))\n",
    "        game = Game([die1, die2])\n",
    "        game.play(5)\n",
    "        self.analyzer = Analyzer(game)\n",
    "\n",
    "    def test_jackpot(self):\n",
    "        \"\"\"Test that jackpot() returns an integer count.\"\"\"\n",
    "        result = self.analyzer.jackpot()\n",
    "        self.assertTrue(isinstance(result, (int, np.integer)))\n",
    "\n",
    "    def test_face_counts_per_roll(self):\n",
    "        \"\"\"Test that face_counts_per_roll() returns a DataFrame.\"\"\"\n",
    "        result = self.analyzer.face_counts_per_roll() \n",
    "        self.assertTrue(isinstance(result, pd.DataFrame))\n",
    "\n",
    "    def test_combo_count(self):\n",
    "        \"\"\"Test that combo_count() returns a DataFrame.\"\"\"\n",
    "        result = self.analyzer.combo_count()\n",
    "        self.assertIsInstance(result, pd.DataFrame)\n",
    "\n",
    "    def test_permutation_count(self):\n",
    "        \"\"\"Test that permutation_count() returns a DataFrame.\"\"\"\n",
    "        result = self.analyzer.permutation_count()\n",
    "        self.assertIsInstance(result, pd.DataFrame)"
   ]
  },
  {
   "cell_type": "markdown",
   "id": "3e058d03-29bc-408f-b36d-0605b4f4b8c0",
   "metadata": {
    "tags": []
   },
   "source": [
    "## Unittest Results (3)\n",
    "\n",
    "Put a copy of the results of running your tests from the command line here.\n",
    "\n",
    "Again, paste as text using triple backticks.\n",
    "\n",
    "- All 12 specified methods return OK (3; .25 each)."
   ]
  },
  {
   "cell_type": "raw",
   "id": "54691fd0-836c-43c7-adc9-4a09d8aa9ab2",
   "metadata": {
    "tags": []
   },
   "source": [
    "bash-4.4$ pwd\n",
    "/sfs/gpfs/tardis/home/sp8me/Documents/MSDS/DS5100/DS5100-sp8me/Final Project/MonteCarlo\n",
    "bash-4.4$ python -m unittest discover\n",
    "............\n",
    "----------------------------------------------------------------------\n",
    "Ran 12 tests in 0.018s\n",
    "\n",
    "OK\n",
    "bash-4.4$"
   ]
  },
  {
   "cell_type": "markdown",
   "id": "d9ffe8c5-eb2f-4ad1-af76-a46550e4c7ac",
   "metadata": {},
   "source": [
    "## Import (1)\n",
    "\n",
    "Import your module here. This import should refer to the code in your package directory.\n",
    "\n",
    "- Module successuflly imported (1)."
   ]
  },
  {
   "cell_type": "code",
   "execution_count": 44,
   "id": "a05dffb3-e6d6-4f78-9df4-5abd0cf74ca9",
   "metadata": {
    "tags": []
   },
   "outputs": [],
   "source": [
    "import montecarlo\n",
    "from montecarlo.montecarlo import Die, Game, Analyzer\n"
   ]
  },
  {
   "cell_type": "markdown",
   "id": "d3870665-3be3-43f2-b9b8-33add69dd783",
   "metadata": {},
   "source": [
    "## Help Docs (4)\n",
    "\n",
    "Show your docstring documentation by applying `help()` to your imported module.\n",
    "\n",
    "- All methods have a docstring (3; .25 each).\n",
    "- All classes have a docstring (1; .33 each)."
   ]
  },
  {
   "cell_type": "code",
   "execution_count": 2,
   "id": "bf4fbf1f-9885-471c-a0a6-e9ca90e160de",
   "metadata": {
    "tags": []
   },
   "outputs": [
    {
     "name": "stdout",
     "output_type": "stream",
     "text": [
      "Help on module montecarlo.montecarlo in montecarlo:\n",
      "\n",
      "NAME\n",
      "    montecarlo.montecarlo\n",
      "\n",
      "CLASSES\n",
      "    builtins.object\n",
      "        Analyzer\n",
      "        Die\n",
      "        Game\n",
      "    \n",
      "    class Analyzer(builtins.object)\n",
      "     |  Analyzer(game: montecarlo.montecarlo.Game)\n",
      "     |  \n",
      "     |  Analyzes the results of a Game.\n",
      "     |  \n",
      "     |  Methods defined here:\n",
      "     |  \n",
      "     |  __init__(self, game: montecarlo.montecarlo.Game)\n",
      "     |      Initializes the Analyzer.\n",
      "     |      \n",
      "     |      Arguments:\n",
      "     |          game (Game): A Game object.\n",
      "     |      \n",
      "     |      Raises:\n",
      "     |          ValueError: If input is not a Game object.\n",
      "     |  \n",
      "     |  combo_count(self)\n",
      "     |      Counts distinct combinations of faces rolled.\n",
      "     |      \n",
      "     |      Returns:\n",
      "     |          pd.DataFrame: Combination counts (order-independent).\n",
      "     |  \n",
      "     |  face_counts_per_roll(self)\n",
      "     |      Counts the number of each face per roll.\n",
      "     |      \n",
      "     |      Returns:\n",
      "     |          pd.DataFrame: Counts of each face per roll.\n",
      "     |  \n",
      "     |  jackpot(self)\n",
      "     |      Counts the number of jackpots (all faces the same).\n",
      "     |      \n",
      "     |      Returns:\n",
      "     |          int: Number of jackpots.\n",
      "     |  \n",
      "     |  permutation_count(self)\n",
      "     |      Counts distinct permutations of faces rolled.\n",
      "     |      \n",
      "     |      Returns:\n",
      "     |          pd.DataFrame: Permutation counts (order-dependent).\n",
      "     |  \n",
      "     |  ----------------------------------------------------------------------\n",
      "     |  Data descriptors defined here:\n",
      "     |  \n",
      "     |  __dict__\n",
      "     |      dictionary for instance variables (if defined)\n",
      "     |  \n",
      "     |  __weakref__\n",
      "     |      list of weak references to the object (if defined)\n",
      "    \n",
      "    class Die(builtins.object)\n",
      "     |  Die(faces: numpy.ndarray)\n",
      "     |  \n",
      "     |  A die has N faces and associated weights. Faces can be rolled randomly.\n",
      "     |  Faces may be numeric or strings.\n",
      "     |  \n",
      "     |  Methods defined here:\n",
      "     |  \n",
      "     |  __init__(self, faces: numpy.ndarray)\n",
      "     |      Initializes the Die object.\n",
      "     |      \n",
      "     |      Arguments:\n",
      "     |          faces (np.ndarray): Array of faces (strings or numbers).\n",
      "     |      \n",
      "     |      Raises:\n",
      "     |          TypeError: If faces is not a numpy array.\n",
      "     |          ValueError: If faces are not unique.\n",
      "     |  \n",
      "     |  change_weight(self, face, new_weight)\n",
      "     |      Changes the weight of a given face.\n",
      "     |      \n",
      "     |      Arguments:\n",
      "     |          face: The face to change.\n",
      "     |          new_weight: The new weight (must be numeric).\n",
      "     |      \n",
      "     |      Raises:\n",
      "     |          IndexError: If face is not found.\n",
      "     |          TypeError: If new_weight is not numeric.\n",
      "     |  \n",
      "     |  roll(self, n_rolls=1)\n",
      "     |      Rolls the die n times.\n",
      "     |      \n",
      "     |      Arguments:\n",
      "     |          n_rolls (int): Number of rolls.\n",
      "     |      \n",
      "     |      Returns:\n",
      "     |          list: Outcomes of rolls.\n",
      "     |  \n",
      "     |  show(self)\n",
      "     |      Shows the die's faces and current weights.\n",
      "     |      \n",
      "     |      Returns:\n",
      "     |          pd.DataFrame: Faces and weights.\n",
      "     |  \n",
      "     |  ----------------------------------------------------------------------\n",
      "     |  Data descriptors defined here:\n",
      "     |  \n",
      "     |  __dict__\n",
      "     |      dictionary for instance variables (if defined)\n",
      "     |  \n",
      "     |  __weakref__\n",
      "     |      list of weak references to the object (if defined)\n",
      "    \n",
      "    class Game(builtins.object)\n",
      "     |  Game(dice: list)\n",
      "     |  \n",
      "     |  A game consists of rolling one or more similar dice one or more times.\n",
      "     |  \n",
      "     |  Methods defined here:\n",
      "     |  \n",
      "     |  __init__(self, dice: list)\n",
      "     |      Initializes the Game object.\n",
      "     |      \n",
      "     |      Args:\n",
      "     |          dice (list): List of Die objects.\n",
      "     |  \n",
      "     |  play(self, n_rolls)\n",
      "     |      Plays the game: roll all dice n times.\n",
      "     |      \n",
      "     |      Arguments:\n",
      "     |          n_rolls (int): Number of times to roll all dice.\n",
      "     |  \n",
      "     |  show(self, form='wide')\n",
      "     |      Shows the results of the most recent play.\n",
      "     |      \n",
      "     |      Arguments:\n",
      "     |          form (str): 'wide' or 'narrow' format.\n",
      "     |      \n",
      "     |      Returns:\n",
      "     |          pd.DataFrame: Results in requested format.\n",
      "     |      \n",
      "     |      Raises:\n",
      "     |          ValueError: If form is not 'wide' or 'narrow'.\n",
      "     |  \n",
      "     |  ----------------------------------------------------------------------\n",
      "     |  Data descriptors defined here:\n",
      "     |  \n",
      "     |  __dict__\n",
      "     |      dictionary for instance variables (if defined)\n",
      "     |  \n",
      "     |  __weakref__\n",
      "     |      list of weak references to the object (if defined)\n",
      "\n",
      "FILE\n",
      "    /sfs/gpfs/tardis/home/sp8me/Documents/MSDS/DS5100/DS5100-sp8me/Final Project/MonteCarlo/montecarlo/montecarlo.py\n",
      "\n",
      "\n"
     ]
    }
   ],
   "source": [
    "help(montecarlo.montecarlo)"
   ]
  },
  {
   "cell_type": "markdown",
   "id": "a9defa84-b395-4966-bd1c-5c6c2bb7ed68",
   "metadata": {},
   "source": [
    "## `README.md` File (3)\n",
    "\n",
    "Provide link to the README.md file of your project's repo.\n",
    "\n",
    "- Metadata section or info present (1).\n",
    "- Synopsis section showing how each class is called (1). (All must be included.)\n",
    "- API section listing all classes and methods (1). (All must be included.)"
   ]
  },
  {
   "cell_type": "markdown",
   "id": "ee090b33-d593-48a0-bf35-e739cea0942c",
   "metadata": {},
   "source": [
    "URL:"
   ]
  },
  {
   "cell_type": "markdown",
   "id": "108604c8-8827-42ef-ab59-6b25428fc0ca",
   "metadata": {},
   "source": [
    "## Successful installation (2)\n",
    "\n",
    "Put a screenshot or paste a copy of a terminal session where you successfully install your module with pip.\n",
    "\n",
    "If pasting text, use a preformatted text block to show the results.\n",
    "\n",
    "- Installed with `pip` (1).\n",
    "- Successfully installed message appears (1)."
   ]
  },
  {
   "cell_type": "raw",
   "id": "1278db6a-aa53-4e5c-a749-93a87ab239e0",
   "metadata": {},
   "source": [
    "Installing collected packages: montecarlo\n",
    "  Attempting uninstall: montecarlo\n",
    "    Found existing installation: montecarlo 1.0.0\n",
    "    Uninstalling montecarlo-1.0.0:\n",
    "      Successfully uninstalled montecarlo-1.0.0\n",
    "  Running setup.py develop for montecarlo\n",
    "Successfully installed montecarlo-1.0.0"
   ]
  },
  {
   "cell_type": "markdown",
   "id": "7c44695d-d1b3-4edf-9f94-e64d7446f199",
   "metadata": {},
   "source": [
    "# Scenarios\n",
    "\n",
    "Use code blocks to perform the tasks for each scenario.\n",
    "\n",
    "Be sure the outputs are visible before submitting."
   ]
  },
  {
   "cell_type": "markdown",
   "id": "e2479eae-6fc9-44cd-b8d7-9b22cb501f2a",
   "metadata": {
    "tags": []
   },
   "source": [
    "## Scenario 1: A 2-headed Coin (9)\n",
    "\n",
    "Task 1. Create a fair coin (with faces $H$ and $T$) and one unfair coin in which one of the faces has a weight of $5$ and the others $1$.\n",
    "\n",
    "- Fair coin created (1).\n",
    "- Unfair coin created with weight as specified (1)."
   ]
  },
  {
   "cell_type": "code",
   "execution_count": 3,
   "id": "55ce498e-c75f-4425-9e3e-b635bd6cd9e1",
   "metadata": {},
   "outputs": [
    {
     "name": "stdout",
     "output_type": "stream",
     "text": [
      "Fair Coin:\n",
      "      weight\n",
      "face        \n",
      "H        1.0\n",
      "T        1.0\n",
      "\n",
      "Unfair Coin:\n",
      "      weight\n",
      "face        \n",
      "H        5.0\n",
      "T        1.0\n"
     ]
    }
   ],
   "source": [
    "from montecarlo.montecarlo import Die, Game, Analyzer\n",
    "import numpy as np\n",
    "\n",
    "#Fair coin\n",
    "fair_coin = Die(np.array([\"H\", \"T\"]))\n",
    "\n",
    "#Unfair coin\n",
    "unfair_coin = Die(np.array([\"H\", \"T\"]))\n",
    "unfair_coin.change_weight(\"H\", 5.0)\n",
    "\n",
    "# Show the coins\n",
    "print(\"Fair Coin:\")\n",
    "print(fair_coin.show())\n",
    "print(\"\\nUnfair Coin:\")\n",
    "print(unfair_coin.show())"
   ]
  },
  {
   "cell_type": "markdown",
   "id": "02b272ab-99da-4b6e-ac2a-555b73e09c07",
   "metadata": {},
   "source": [
    "Task 2. Play a game of $1000$ flips with two fair dice.\n",
    "\n",
    "- Play method called correclty and without error (1)."
   ]
  },
  {
   "cell_type": "code",
   "execution_count": 4,
   "id": "65c92601-d32d-4326-b215-74953aee27f2",
   "metadata": {},
   "outputs": [
    {
     "name": "stdout",
     "output_type": "stream",
     "text": [
      "             0  1\n",
      "Roll Number      \n",
      "0            H  H\n",
      "1            H  H\n",
      "2            T  T\n",
      "3            H  H\n",
      "4            H  T\n"
     ]
    }
   ],
   "source": [
    "fair_game = Game([fair_coin, fair_coin])\n",
    "fair_game.play(1000)\n",
    "\n",
    "print(fair_game.show(\"wide\").head())"
   ]
  },
  {
   "cell_type": "markdown",
   "id": "7d9c3dc8-22c1-4cae-81fb-d68d774a05d1",
   "metadata": {},
   "source": [
    "Task 3. Play another game (using a new Game object) of $1000$ flips, this time using two unfair dice and one fair die. For the second unfair die, you can use the same die object twice in the list of dice you pass to the Game object.\n",
    "\n",
    "- New game object created (1).\n",
    "- Play method called correclty and without error (1)."
   ]
  },
  {
   "cell_type": "code",
   "execution_count": 5,
   "id": "d4098bed-1eb2-4084-8d5e-9fda07c3be43",
   "metadata": {},
   "outputs": [
    {
     "name": "stdout",
     "output_type": "stream",
     "text": [
      "             0  1  2\n",
      "Roll Number         \n",
      "0            T  H  T\n",
      "1            H  H  H\n",
      "2            H  H  T\n",
      "3            H  H  H\n",
      "4            H  H  H\n"
     ]
    }
   ],
   "source": [
    "unfair_game = Game([unfair_coin, unfair_coin, fair_coin])\n",
    "unfair_game.play(1000)\n",
    "\n",
    "print(unfair_game.show(\"wide\").head())"
   ]
  },
  {
   "cell_type": "markdown",
   "id": "f690ebfc-fe71-4eb2-976d-7ac80ca6c23f",
   "metadata": {},
   "source": [
    "Task 4. For each game, use an Analyzer object to determine the raw frequency of jackpots — i.e. getting either all $H$s or all $T$s.\n",
    "\n",
    "- Analyzer objecs instantiated for both games (1).\n",
    "- Raw frequencies reported for both (1)."
   ]
  },
  {
   "cell_type": "code",
   "execution_count": 13,
   "id": "b26b8b7e-3be7-4476-a9a4-37d97536729e",
   "metadata": {},
   "outputs": [
    {
     "data": {
      "text/plain": [
       "363"
      ]
     },
     "execution_count": 13,
     "metadata": {},
     "output_type": "execute_result"
    }
   ],
   "source": [
    "fair_analyzer = Analyzer(fair_game)\n",
    "unfair_analyzer = Analyzer(unfair_game)\n",
    "\n",
    "fair_analyzer.jackpot()\n",
    "unfair_analyzer.jackpot()"
   ]
  },
  {
   "cell_type": "markdown",
   "id": "b73d233c-445e-40cd-8858-0c5e1f097105",
   "metadata": {},
   "source": [
    "Task 5. For each analyzer, compute relative frequency as the number of jackpots over the total number of rolls.\n",
    "\n",
    "- Both relative frequencies computed (1)."
   ]
  },
  {
   "cell_type": "code",
   "execution_count": 14,
   "id": "9a96b31b-1b9d-496e-be3e-4bf83c45ec3a",
   "metadata": {},
   "outputs": [],
   "source": [
    "fair_jackpot_count = fair_analyzer.jackpot()\n",
    "unfair_jackpot_count = unfair_analyzer.jackpot()\n",
    "\n",
    "fair_jackpot_freq = fair_jackpot_count / 1000\n",
    "unfair_jackpot_freq = unfair_jackpot_count / 10000"
   ]
  },
  {
   "cell_type": "markdown",
   "id": "a6e1e734-7f5c-4721-8ba4-2f3a424cf984",
   "metadata": {},
   "source": [
    "Task 6. Show your results, comparing the two relative frequencies, in a simple bar chart.\n",
    "\n",
    "- Bar chart plotted and correct (1)."
   ]
  },
  {
   "cell_type": "code",
   "execution_count": 15,
   "id": "473fa67c-aa53-4aa3-a0b7-e8772b3f6ed3",
   "metadata": {},
   "outputs": [
    {
     "data": {
      "image/png": "[encoded data removed]",
      "text/plain": [
       "<Figure size 640x480 with 1 Axes>"
      ]
     },
     "metadata": {},
     "output_type": "display_data"
    }
   ],
   "source": [
    "import matplotlib.pyplot as plt\n",
    "\n",
    "plt.bar(['Fair Game', 'Unfair Game'], [fair_jackpot_freq, unfair_jackpot_freq])\n",
    "plt.ylabel('Relative Frequency of Jackpots')\n",
    "plt.title('Jackpot Comparison')\n",
    "plt.show()"
   ]
  },
  {
   "cell_type": "markdown",
   "id": "725cfa5b-e4b7-47c9-86aa-8d9e1fe6c8c7",
   "metadata": {},
   "source": [
    "## Scenario 2: A 6-sided Die (9)\n",
    "\n",
    "Task 1. Create three dice, each with six sides having the faces 1 through 6.\n",
    "\n",
    "- Three die objects created (1)."
   ]
  },
  {
   "cell_type": "code",
   "execution_count": 16,
   "id": "6a8bc611-325a-4e05-88d5-980e0a2cf7c5",
   "metadata": {},
   "outputs": [],
   "source": [
    "die1 = Die(np.array([1, 2, 3, 4, 5, 6]))\n",
    "die2 = Die(np.array([1, 2, 3, 4, 5, 6]))\n",
    "die3 = Die(np.array([1, 2, 3, 4, 5, 6]))"
   ]
  },
  {
   "cell_type": "markdown",
   "id": "2ed3ad26-fbe9-43bd-9ad7-f683a4191d12",
   "metadata": {},
   "source": [
    "Task 2. Convert one of the dice to an unfair one by weighting the face $6$ five times more than the other weights (i.e. it has weight of 5 and the others a weight of 1 each).\n",
    "\n",
    "- Unfair die created with proper call to weight change method (1)."
   ]
  },
  {
   "cell_type": "code",
   "execution_count": 17,
   "id": "e33dd18f-7f90-456d-a680-61c08a328e21",
   "metadata": {},
   "outputs": [],
   "source": [
    "die1.change_weight(6, 5.0)"
   ]
  },
  {
   "cell_type": "markdown",
   "id": "7f6c062a-4c5b-45b9-96b8-76a0354c7e47",
   "metadata": {},
   "source": [
    "Task 3. Convert another of the dice to be unfair by weighting the face $1$ five times more than the others.\n",
    "\n",
    "- Unfair die created with proper call to weight change method (1)."
   ]
  },
  {
   "cell_type": "code",
   "execution_count": 18,
   "id": "01133a4e-6b06-4246-8d90-8e6d6995be51",
   "metadata": {},
   "outputs": [],
   "source": [
    "die2.change_weight(1, 5.0)"
   ]
  },
  {
   "cell_type": "markdown",
   "id": "f0ed31cb-0a3c-4eb2-b85e-6ed6b2eb6e58",
   "metadata": {},
   "source": [
    "Task 4. Play a game of $10000$ rolls with $5$ fair dice.\n",
    "\n",
    "- Game class properly instantiated (1). \n",
    "- Play method called properly (1)."
   ]
  },
  {
   "cell_type": "code",
   "execution_count": 20,
   "id": "e92395a4-9ed8-4cb0-8c85-38768a784ffc",
   "metadata": {},
   "outputs": [
    {
     "name": "stdout",
     "output_type": "stream",
     "text": [
      "             0  1  2  3  4\n",
      "Roll Number               \n",
      "0            5  4  6  2  4\n",
      "1            1  6  5  6  2\n",
      "2            5  3  1  4  5\n",
      "3            4  1  3  1  3\n",
      "4            3  6  3  1  4\n"
     ]
    }
   ],
   "source": [
    "fair_die = Die(np.array([1, 2, 3, 4, 5, 6]))\n",
    "fair_game = Game([fair_die, fair_die, fair_die, fair_die, fair_die])\n",
    "fair_game.play(10000)\n",
    "\n",
    "print(fair_game.show(\"wide\").head())"
   ]
  },
  {
   "cell_type": "markdown",
   "id": "7814b402-46a4-40e5-8141-20e05c3e646b",
   "metadata": {},
   "source": [
    "Task 5. Play another game of $10000$ rolls, this time with $2$ unfair dice, one as defined in steps #2 and #3 respectively, and $3$ fair dice.\n",
    "\n",
    "- Game class properly instantiated (1). \n",
    "- Play method called properly (1)."
   ]
  },
  {
   "cell_type": "code",
   "execution_count": 21,
   "id": "7cd58fba-b2a5-4d5d-bc6d-2a7a68d18c4f",
   "metadata": {},
   "outputs": [
    {
     "name": "stdout",
     "output_type": "stream",
     "text": [
      "             0  1  2  3  4\n",
      "Roll Number               \n",
      "0            6  1  3  3  2\n",
      "1            6  4  1  3  1\n",
      "2            6  6  3  6  6\n",
      "3            6  1  6  3  2\n",
      "4            3  1  1  1  3\n"
     ]
    }
   ],
   "source": [
    "mixed_game = Game([die1, die2, fair_die, fair_die, fair_die])\n",
    "mixed_game.play(10000)\n",
    "\n",
    "print(mixed_game.show(\"wide\").head())"
   ]
  },
  {
   "cell_type": "markdown",
   "id": "7b6cd372-2bb8-4df8-ade1-8f48bc300955",
   "metadata": {},
   "source": [
    "Task 6. For each game, use an Analyzer object to determine the relative frequency of jackpots and show your results, comparing the two relative frequencies, in a simple bar chart.\n",
    "\n",
    "- Jackpot methods called (1).\n",
    "- Graph produced (1)."
   ]
  },
  {
   "cell_type": "code",
   "execution_count": 22,
   "id": "bbdcf695-8937-406e-9b53-aa0b9ee3c59a",
   "metadata": {},
   "outputs": [
    {
     "data": {
      "image/png": "[encoded data removed]",
      "text/plain": [
       "<Figure size 640x480 with 1 Axes>"
      ]
     },
     "metadata": {},
     "output_type": "display_data"
    }
   ],
   "source": [
    "fair_analyzer = Analyzer(fair_game)\n",
    "mixed_analyzer = Analyzer(mixed_game)\n",
    "\n",
    "fair_jackpot_count = fair_analyzer.jackpot()\n",
    "mixed_jackpot_count = mixed_analyzer.jackpot()\n",
    "\n",
    "fair_jackpot_freq = fair_jackpot_count / 10000\n",
    "mixed_jackpot_freq = mixed_jackpot_count / 10000\n",
    "\n",
    "# Plot results\n",
    "plt.bar(['Fair Game', 'Mixed Game'], [fair_jackpot_freq, mixed_jackpot_freq])\n",
    "plt.ylabel('Relative Frequency of Jackpots')\n",
    "plt.title('Jackpot Comparison - 6-sided Dice')\n",
    "plt.show()\n"
   ]
  },
  {
   "cell_type": "markdown",
   "id": "9f04e9be-8fcf-4ea4-a391-6614608285f8",
   "metadata": {},
   "source": [
    "## Scenario 3: Letters of the Alphabet (7)\n",
    "\n",
    "Task 1. Create a \"die\" of letters from $A$ to $Z$ with weights based on their frequency of usage as found in the data file `english_letters.txt`. Use the frequencies (i.e. raw counts) as weights.\n",
    "\n",
    "- Die correctly instantiated with source file data (1).\n",
    "- Weights properly applied using weight setting method (1)."
   ]
  },
  {
   "cell_type": "code",
   "execution_count": 38,
   "id": "b0ceb771-3cdf-4d8f-8c2c-020806bbb909",
   "metadata": {},
   "outputs": [
    {
     "name": "stdout",
     "output_type": "stream",
     "text": [
      "           weight\n",
      "face             \n",
      "E     529117365.0\n",
      "T     390965105.0\n",
      "A     374061888.0\n",
      "O     326627740.0\n",
      "I     320410057.0\n",
      "N     313720540.0\n",
      "S     294300210.0\n",
      "R     277000841.0\n",
      "H     216768975.0\n",
      "L     183996130.0\n",
      "D     169330528.0\n",
      "C     138416451.0\n",
      "U     117295780.0\n",
      "M     110504544.0\n",
      "F      95422055.0\n",
      "G      91258980.0\n",
      "P      90376747.0\n",
      "W      79843664.0\n",
      "Y      75294515.0\n",
      "B      70195826.0\n",
      "V      46337161.0\n",
      "K      35373464.0\n",
      "J       9613410.0\n",
      "X       8369915.0\n",
      "Z       4975847.0\n",
      "Q       4550166.0\n"
     ]
    }
   ],
   "source": [
    "import numpy as np\n",
    "\n",
    "with open('english_letters.txt', 'r') as file:\n",
    "    lines = file.read().splitlines()\n",
    "\n",
    "letters = []\n",
    "weights = []\n",
    "\n",
    "for line in lines:\n",
    "    parts = line.split()\n",
    "    if len(parts) == 2:\n",
    "        letter, weight = parts\n",
    "        letters.append(letter)\n",
    "        weights.append(float(weight))\n",
    "\n",
    "letter_die = Die(np.array(letters))\n",
    "\n",
    "for letter, weight in zip(letters, weights):\n",
    "    letter_die.change_weight(letter, weight)\n",
    "\n",
    "print(letter_die.show())"
   ]
  },
  {
   "cell_type": "markdown",
   "id": "88e2e14a-6223-470a-a2c8-bca1120d7a5b",
   "metadata": {},
   "source": [
    "Task 2. Play a game involving $4$ of these dice with $1000$ rolls.\n",
    "\n",
    "- Game play method properly called (1)."
   ]
  },
  {
   "cell_type": "code",
   "execution_count": 39,
   "id": "2ae087cc-936d-4f1e-bddb-a7c179d139e0",
   "metadata": {},
   "outputs": [
    {
     "name": "stdout",
     "output_type": "stream",
     "text": [
      "             0  1  2  3\n",
      "Roll Number            \n",
      "0            I  S  E  S\n",
      "1            T  S  A  C\n",
      "2            O  A  H  E\n",
      "3            O  B  E  I\n",
      "4            E  L  S  B\n"
     ]
    }
   ],
   "source": [
    "letter_game_4 = Game([letter_die] * 4)\n",
    "letter_game_4.play(1000)\n",
    "\n",
    "print(letter_game_4.show(\"wide\").head())"
   ]
  },
  {
   "cell_type": "markdown",
   "id": "3b9ff800-bf1f-4f66-9d7f-ff57a648e9f0",
   "metadata": {},
   "source": [
    "Task 3. Determine how many permutations in your results are actual English words, based on the vocabulary found in `scrabble_words.txt`.\n",
    "\n",
    "- Use permutation method (1).\n",
    "- Get count as difference between permutations and vocabulary (1)."
   ]
  },
  {
   "cell_type": "code",
   "execution_count": 46,
   "id": "ed1c7fa0-cfa3-4cf4-9fd0-9f84b86b0f64",
   "metadata": {},
   "outputs": [
    {
     "name": "stdout",
     "output_type": "stream",
     "text": [
      " 4-letter real words found: 53\n"
     ]
    }
   ],
   "source": [
    "words_4 = set(\n",
    "    pd.read_csv('scrabble_words.txt', header=None)[0]\n",
    "    .dropna() \n",
    "    .astype(str)\n",
    "    .str.upper()\n",
    ")\n",
    "rolls_4 = letter_game_4.show('wide')\n",
    "permutations_4 = rolls_4.apply(lambda row: ''.join(row), axis = 1)\n",
    "real_words_4 = permutations_4[permutations_4.isin(words_4)]\n",
    "print(f\" 4-letter real words found: {len(real_words_4)}\")\n"
   ]
  },
  {
   "cell_type": "code",
   "execution_count": 49,
   "id": "3e819325-1947-4120-b69b-988eb8ca2daf",
   "metadata": {
    "tags": []
   },
   "outputs": [
    {
     "name": "stdout",
     "output_type": "stream",
     "text": [
      "5-letter real words found: 5\n",
      "4-letter dice produced more real words.\n"
     ]
    }
   ],
   "source": [
    "#Task 4\n",
    "\n",
    "letter_game_5 = Game([letter_die] * 5)\n",
    "letter_game_5.play(1000)\n",
    "\n",
    "words_5 = set(word for word in words_4 if len(word) == 5)\n",
    "\n",
    "rolls_5 = letter_game_5.show('wide')\n",
    "\n",
    "permutations_5 = rolls_5.apply(lambda row: ''.join(map(str, row)), axis=1)\n",
    "\n",
    "real_words_5 = permutations_5[permutations_5.isin(words_5)]\n",
    "\n",
    "print(f\"5-letter real words found: {len(real_words_5)}\")\n",
    "\n",
    "if len(real_words_5) > len(real_words_4):\n",
    "    print(\"5-letter dice produced more real words.\")\n",
    "else:\n",
    "    print(\"4-letter dice produced more real words.\")\n",
    "\n"
   ]
  },
  {
   "cell_type": "markdown",
   "id": "fcf068cf-381a-4b3e-ac3a-0510eb4dbdb0",
   "metadata": {},
   "source": [
    "Task 4. Repeat steps #2 and #3, this time with $5$ dice. How many actual words does this produce? Which produces more?\n",
    "\n",
    "- Successfully repreats steps (1).\n",
    "- Identifies parameter with most found words (1)."
   ]
  }
 ],
 "metadata": {
  "kernelspec": {
   "display_name": "Python 3 (ipykernel)",
   "language": "python",
   "name": "python3"
  },
  "language_info": {
   "codemirror_mode": {
    "name": "ipython",
    "version": 3
   },
   "file_extension": ".py",
   "mimetype": "text/x-python",
   "name": "python",
   "nbconvert_exporter": "python",
   "pygments_lexer": "ipython3",
   "version": "3.11.4"
  },
  "toc-autonumbering": true,
  "widgets": {
   "application/vnd.jupyter.widget-state+json": {
    "state": {},
    "version_major": 2,
    "version_minor": 0
   }
  }
 },
 "nbformat": 4,
 "nbformat_minor": 5
}
