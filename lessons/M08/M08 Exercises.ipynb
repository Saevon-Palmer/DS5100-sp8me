{
 "cells": [
  {
   "cell_type": "code",
   "execution_count": 5,
   "id": "cef2c9e3-3421-496f-9a32-999d40c62721",
   "metadata": {
    "tags": []
   },
   "outputs": [
    {
     "name": "stdout",
     "output_type": "stream",
     "text": [
      "This does not work\n"
     ]
    }
   ],
   "source": [
    "# 8.1\n",
    "\n",
    "try:\n",
    "    3 / 0\n",
    "except:\n",
    "    print(\"This does not work\")"
   ]
  },
  {
   "cell_type": "code",
   "execution_count": 7,
   "id": "e6fb712c-290b-48a1-8b94-070a3266198b",
   "metadata": {
    "tags": []
   },
   "outputs": [
    {
     "ename": "AssertionError",
     "evalue": "This is...",
     "output_type": "error",
     "traceback": [
      "\u001b[0;31m---------------------------------------------------------------------------\u001b[0m",
      "\u001b[0;31mAssertionError\u001b[0m                            Traceback (most recent call last)",
      "Cell \u001b[0;32mIn[7], line 8\u001b[0m\n\u001b[1;32m      4\u001b[0m \u001b[38;5;28;01massert\u001b[39;00m y2,\u001b[38;5;124m\"\u001b[39m\u001b[38;5;124mThis is not correct\u001b[39m\u001b[38;5;124m\"\u001b[39m\n\u001b[1;32m      6\u001b[0m y3 \u001b[38;5;241m=\u001b[39m \u001b[38;5;241m3\u001b[39m \u001b[38;5;241m+\u001b[39m \u001b[38;5;241m4\u001b[39m \u001b[38;5;241m==\u001b[39m \u001b[38;5;241m0\u001b[39m\n\u001b[0;32m----> 8\u001b[0m \u001b[38;5;28;01massert\u001b[39;00m y3, \u001b[38;5;124m\"\u001b[39m\u001b[38;5;124mThis is...\u001b[39m\u001b[38;5;124m\"\u001b[39m\n",
      "\u001b[0;31mAssertionError\u001b[0m: This is..."
     ]
    }
   ],
   "source": [
    "#8.2\n",
    "\n",
    "y2 = 3 + 2 == 5\n",
    "assert y2,\"This is not correct\"\n",
    "\n",
    "y3 = 3 + 4 == 0\n",
    "\n",
    "assert y3, \"This is...\""
   ]
  },
  {
   "cell_type": "code",
   "execution_count": 8,
   "id": "021834d0-1dd5-495b-9145-95c4d38f5ab6",
   "metadata": {
    "tags": []
   },
   "outputs": [
    {
     "ename": "TypeError",
     "evalue": "'ab_tol' is an invalid keyword argument for isclose()",
     "output_type": "error",
     "traceback": [
      "\u001b[0;31m---------------------------------------------------------------------------\u001b[0m",
      "\u001b[0;31mTypeError\u001b[0m                                 Traceback (most recent call last)",
      "Cell \u001b[0;32mIn[8], line 12\u001b[0m\n\u001b[1;32m     10\u001b[0m \u001b[38;5;28;01massert\u001b[39;00m \u001b[38;5;28misinstance\u001b[39m(area(\u001b[38;5;241m1\u001b[39m),\u001b[38;5;28mfloat\u001b[39m), \u001b[38;5;124m\"\u001b[39m\u001b[38;5;124mTest 1 failed!\u001b[39m\u001b[38;5;124m\"\u001b[39m\n\u001b[1;32m     11\u001b[0m \u001b[38;5;28;01massert\u001b[39;00m area(\u001b[38;5;241m0\u001b[39m) \u001b[38;5;241m==\u001b[39m \u001b[38;5;241m0\u001b[39m, \u001b[38;5;124m\"\u001b[39m\u001b[38;5;124mTest 2 failed!\u001b[39m\u001b[38;5;124m\"\u001b[39m\n\u001b[0;32m---> 12\u001b[0m \u001b[38;5;28;01massert\u001b[39;00m \u001b[43mmath\u001b[49m\u001b[38;5;241;43m.\u001b[39;49m\u001b[43misclose\u001b[49m\u001b[43m(\u001b[49m\u001b[43marea\u001b[49m\u001b[43m(\u001b[49m\u001b[38;5;241;43m5\u001b[39;49m\u001b[43m)\u001b[49m\u001b[43m,\u001b[49m\u001b[38;5;241;43m78.5\u001b[39;49m\u001b[43m,\u001b[49m\u001b[43m \u001b[49m\u001b[43mab_tol\u001b[49m\u001b[43m \u001b[49m\u001b[38;5;241;43m=\u001b[39;49m\u001b[43m \u001b[49m\u001b[38;5;241;43m0.1\u001b[39;49m\u001b[43m)\u001b[49m, \u001b[38;5;124m\"\u001b[39m\u001b[38;5;124mTest 3 failed!\u001b[39m\u001b[38;5;124m\"\u001b[39m\n",
      "\u001b[0;31mTypeError\u001b[0m: 'ab_tol' is an invalid keyword argument for isclose()"
     ]
    }
   ],
   "source": [
    "#8.3\n",
    "\n",
    "import math\n",
    "\n",
    "from math import pi \n",
    "\n",
    "def area(radius):\n",
    "    return pi * radius **2\n",
    "\n",
    "assert isinstance(area(1),float), \"Test 1 failed!\"\n",
    "assert area(0) == 0, \"Test 2 failed!\"\n",
    "assert math.isclose(area(5),78.5, ab_tol = 0.1), \"Test 3 failed!\""
   ]
  },
  {
   "cell_type": "code",
   "execution_count": null,
   "id": "0bb824d8-aaf8-4066-a282-6b711d014694",
   "metadata": {},
   "outputs": [],
   "source": []
  }
 ],
 "metadata": {
  "kernelspec": {
   "display_name": "Python 3 (ipykernel)",
   "language": "python",
   "name": "python3"
  },
  "language_info": {
   "codemirror_mode": {
    "name": "ipython",
    "version": 3
   },
   "file_extension": ".py",
   "mimetype": "text/x-python",
   "name": "python",
   "nbconvert_exporter": "python",
   "pygments_lexer": "ipython3",
   "version": "3.11.4"
  }
 },
 "nbformat": 4,
 "nbformat_minor": 5
}
