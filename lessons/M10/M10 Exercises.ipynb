{
 "cells": [
  {
   "cell_type": "code",
   "execution_count": 6,
   "id": "24f7bf7e-bfd9-42ae-b257-449b4d394afc",
   "metadata": {
    "tags": []
   },
   "outputs": [],
   "source": [
    "#10.1\n",
    "\n",
    "#a vector length of 10\n",
    "fibo <- numeric(10)\n",
    "\n",
    "#set the first two elements to 1\n",
    "fibo[1] <- fibo[2] <-1\n",
    "\n",
    "#iterate and apply the kernal function\n",
    "for (i in 3:10) {\n",
    "    fibo[i] <- fibo[i - 2] + fibo[i-1] \n",
    "    }"
   ]
  },
  {
   "cell_type": "code",
   "execution_count": 7,
   "id": "1743c562-3367-4895-a898-fdab9534b7a9",
   "metadata": {
    "tags": []
   },
   "outputs": [
    {
     "data": {
      "text/html": [
       "<style>\n",
       ".list-inline {list-style: none; margin:0; padding: 0}\n",
       ".list-inline>li {display: inline-block}\n",
       ".list-inline>li:not(:last-child)::after {content: \"\\00b7\"; padding: 0 .5ex}\n",
       "</style>\n",
       "<ol class=list-inline><li>1</li><li>1</li><li>2</li><li>3</li><li>5</li><li>8</li><li>13</li><li>21</li><li>34</li><li>55</li></ol>\n"
      ],
      "text/latex": [
       "\\begin{enumerate*}\n",
       "\\item 1\n",
       "\\item 1\n",
       "\\item 2\n",
       "\\item 3\n",
       "\\item 5\n",
       "\\item 8\n",
       "\\item 13\n",
       "\\item 21\n",
       "\\item 34\n",
       "\\item 55\n",
       "\\end{enumerate*}\n"
      ],
      "text/markdown": [
       "1. 1\n",
       "2. 1\n",
       "3. 2\n",
       "4. 3\n",
       "5. 5\n",
       "6. 8\n",
       "7. 13\n",
       "8. 21\n",
       "9. 34\n",
       "10. 55\n",
       "\n",
       "\n"
      ],
      "text/plain": [
       " [1]  1  1  2  3  5  8 13 21 34 55"
      ]
     },
     "metadata": {},
     "output_type": "display_data"
    }
   ],
   "source": [
    "fibo"
   ]
  },
  {
   "cell_type": "code",
   "execution_count": 8,
   "id": "19b4f24b-cca3-49cf-aa3d-aa19c50b70fc",
   "metadata": {
    "tags": []
   },
   "outputs": [],
   "source": [
    "#10.2 \n",
    "get_fibo <- function(n = 10) {\n",
    "    fibo <- numeric(n)\n",
    "    fibo[1] <- fibo[2] <- 1\n",
    "    for (i in 3:n) {\n",
    "        fibo[i] <- fibo[i - 2] + fibo[i -1]\n",
    "    }\n",
    "    return(fibo)\n",
    "    }\n"
   ]
  },
  {
   "cell_type": "code",
   "execution_count": 9,
   "id": "70cca4be-f4da-46a7-8c8c-c5beb4024689",
   "metadata": {
    "tags": []
   },
   "outputs": [],
   "source": [
    "#10.3\n",
    "\n",
    "interval <- function(x) {\n",
    "    if (x >= 0 & x<= 1) {\n",
    "        return (1)\n",
    "    } else {\n",
    "        return (0)\n",
    "    }\n",
    "}"
   ]
  },
  {
   "cell_type": "code",
   "execution_count": 10,
   "id": "fca027ac-e25d-495d-b914-b03cab9e31b4",
   "metadata": {
    "tags": []
   },
   "outputs": [
    {
     "name": "stdout",
     "output_type": "stream",
     "text": [
      "[1] 0\n",
      "[1] 1\n",
      "[1] 1\n",
      "[1] 0\n",
      "[1] 0\n"
     ]
    }
   ],
   "source": [
    "#10.4\n",
    "\n",
    "for (t in -1:3) {\n",
    "    print(interval(t))\n",
    "}"
   ]
  },
  {
   "cell_type": "code",
   "execution_count": 11,
   "id": "559d525c-56fc-407f-87b9-8613502d7077",
   "metadata": {
    "tags": []
   },
   "outputs": [
    {
     "name": "stdout",
     "output_type": "stream",
     "text": [
      "[1] \"1st 10 letters in lower case:\"\n",
      " [1] \"a\" \"b\" \"c\" \"d\" \"e\" \"f\" \"g\" \"h\" \"i\" \"j\"\n"
     ]
    }
   ],
   "source": [
    "#10.5\n",
    "\n",
    "print(\"1st 10 letters in lower case:\")\n",
    "print(head(letters,10))"
   ]
  },
  {
   "cell_type": "code",
   "execution_count": 13,
   "id": "80d0e6ef-8e33-4988-9450-319c1993010c",
   "metadata": {
    "tags": []
   },
   "outputs": [
    {
     "name": "stdout",
     "output_type": "stream",
     "text": [
      "[1] \"Last 10 letters in uppercase:\"\n",
      " [1] \"Q\" \"R\" \"S\" \"T\" \"U\" \"V\" \"W\" \"X\" \"Y\" \"Z\"\n"
     ]
    }
   ],
   "source": [
    "print(\"Last 10 letters in uppercase:\")\n",
    "print(tail(LETTERS,10))"
   ]
  },
  {
   "cell_type": "code",
   "execution_count": 15,
   "id": "c72e619a-9165-4574-b1ed-cce97efa3f20",
   "metadata": {
    "tags": []
   },
   "outputs": [
    {
     "name": "stdout",
     "output_type": "stream",
     "text": [
      "[1] \"Letters between 22nd to 24th letters in uppercase:\"\n",
      "[1] \"V\" \"W\" \"X\"\n"
     ]
    }
   ],
   "source": [
    "print(\"Letters between 22nd to 24th letters in uppercase:\")\n",
    "print(LETTERS[22:24])"
   ]
  },
  {
   "cell_type": "code",
   "execution_count": 16,
   "id": "7834ae2b-d6e8-4915-8778-23dbfa56cf9a",
   "metadata": {
    "tags": []
   },
   "outputs": [
    {
     "name": "stdout",
     "output_type": "stream",
     "text": [
      "[1] \"1 \"\n",
      "[1] \"2 \"\n",
      "[1] \"3 Fizz\"\n",
      "[1] \"4 \"\n",
      "[1] \"5 Buzz\"\n",
      "[1] \"6 Fizz\"\n",
      "[1] \"7 \"\n",
      "[1] \"8 \"\n",
      "[1] \"9 Fizz\"\n",
      "[1] \"10 Buzz\"\n",
      "[1] \"11 \"\n",
      "[1] \"12 Fizz\"\n",
      "[1] \"13 \"\n",
      "[1] \"14 \"\n",
      "[1] \"15 FizzBuzz\"\n",
      "[1] \"16 \"\n",
      "[1] \"17 \"\n",
      "[1] \"18 Fizz\"\n",
      "[1] \"19 \"\n",
      "[1] \"20 Buzz\"\n",
      "[1] \"21 Fizz\"\n",
      "[1] \"22 \"\n",
      "[1] \"23 \"\n",
      "[1] \"24 Fizz\"\n",
      "[1] \"25 Buzz\"\n",
      "[1] \"26 \"\n",
      "[1] \"27 Fizz\"\n",
      "[1] \"28 \"\n",
      "[1] \"29 \"\n",
      "[1] \"30 FizzBuzz\"\n",
      "[1] \"31 \"\n",
      "[1] \"32 \"\n",
      "[1] \"33 Fizz\"\n",
      "[1] \"34 \"\n",
      "[1] \"35 Buzz\"\n",
      "[1] \"36 Fizz\"\n",
      "[1] \"37 \"\n",
      "[1] \"38 \"\n",
      "[1] \"39 Fizz\"\n",
      "[1] \"40 Buzz\"\n",
      "[1] \"41 \"\n",
      "[1] \"42 Fizz\"\n",
      "[1] \"43 \"\n",
      "[1] \"44 \"\n",
      "[1] \"45 FizzBuzz\"\n",
      "[1] \"46 \"\n",
      "[1] \"47 \"\n",
      "[1] \"48 Fizz\"\n",
      "[1] \"49 \"\n",
      "[1] \"50 Buzz\"\n",
      "[1] \"51 Fizz\"\n",
      "[1] \"52 \"\n",
      "[1] \"53 \"\n",
      "[1] \"54 Fizz\"\n",
      "[1] \"55 Buzz\"\n",
      "[1] \"56 \"\n",
      "[1] \"57 Fizz\"\n",
      "[1] \"58 \"\n",
      "[1] \"59 \"\n",
      "[1] \"60 FizzBuzz\"\n",
      "[1] \"61 \"\n",
      "[1] \"62 \"\n",
      "[1] \"63 Fizz\"\n",
      "[1] \"64 \"\n",
      "[1] \"65 Buzz\"\n",
      "[1] \"66 Fizz\"\n",
      "[1] \"67 \"\n",
      "[1] \"68 \"\n",
      "[1] \"69 Fizz\"\n",
      "[1] \"70 Buzz\"\n",
      "[1] \"71 \"\n",
      "[1] \"72 Fizz\"\n",
      "[1] \"73 \"\n",
      "[1] \"74 \"\n",
      "[1] \"75 FizzBuzz\"\n",
      "[1] \"76 \"\n",
      "[1] \"77 \"\n",
      "[1] \"78 Fizz\"\n",
      "[1] \"79 \"\n",
      "[1] \"80 Buzz\"\n",
      "[1] \"81 Fizz\"\n",
      "[1] \"82 \"\n",
      "[1] \"83 \"\n",
      "[1] \"84 Fizz\"\n",
      "[1] \"85 Buzz\"\n",
      "[1] \"86 \"\n",
      "[1] \"87 Fizz\"\n",
      "[1] \"88 \"\n",
      "[1] \"89 \"\n",
      "[1] \"90 FizzBuzz\"\n",
      "[1] \"91 \"\n",
      "[1] \"92 \"\n",
      "[1] \"93 Fizz\"\n",
      "[1] \"94 \"\n",
      "[1] \"95 Buzz\"\n",
      "[1] \"96 Fizz\"\n",
      "[1] \"97 \"\n",
      "[1] \"98 \"\n",
      "[1] \"99 Fizz\"\n",
      "[1] \"100 Buzz\"\n"
     ]
    }
   ],
   "source": [
    "#10.6 \n",
    "\n",
    "for (i in 1:100) {\n",
    "    a <- \"\"\n",
    "    b <- \"\"\n",
    "    if (i %% 3 == 0) {\n",
    "        a <-\"Fizz\"\n",
    "    }\n",
    "    if (i %% 5 == 0) {\n",
    "        b <- \"Buzz\"\n",
    "    }\n",
    "    print(paste(i, \" \", a, b, sep = \"\"))\n",
    "}\n"
   ]
  },
  {
   "cell_type": "code",
   "execution_count": null,
   "id": "195f1fa1-1e2d-4244-a2a3-aa9bc166dd3c",
   "metadata": {},
   "outputs": [],
   "source": []
  }
 ],
 "metadata": {
  "kernelspec": {
   "display_name": "R 4.4.1",
   "language": "R",
   "name": "r-4.4.1"
  },
  "language_info": {
   "codemirror_mode": "r",
   "file_extension": ".r",
   "mimetype": "text/x-r-source",
   "name": "R",
   "pygments_lexer": "r",
   "version": "4.4.1"
  }
 },
 "nbformat": 4,
 "nbformat_minor": 5
}
