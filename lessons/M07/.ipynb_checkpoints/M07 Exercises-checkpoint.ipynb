{
 "cells": [
  {
   "cell_type": "code",
   "execution_count": 2,
   "id": "aa50ad8c-8f1f-4bb2-9bf1-22d0da2be569",
   "metadata": {
    "tags": []
   },
   "outputs": [],
   "source": [
    "#7.1\n",
    "\n",
    "class MyClass():\n",
    "    \"example class for exercise 7.1\"\n",
    "    \n",
    "    att1 = \"foo\"\n",
    "    \n",
    "    def __int__(self,att2):\n",
    "        self.att2 = att2\n",
    "        \n",
    "    def add(self):\n",
    "        self.msg = self.att1 + \" \" + self.att2\n",
    "        print(self.msg)\n",
    "    \n",
    "    "
   ]
  },
  {
   "cell_type": "code",
   "execution_count": 6,
   "id": "94973e4c-a71e-4efc-9a5a-3e67c2e21419",
   "metadata": {
    "tags": []
   },
   "outputs": [
    {
     "ename": "TypeError",
     "evalue": "MyClass() takes no arguments",
     "output_type": "error",
     "traceback": [
      "\u001b[0;31m---------------------------------------------------------------------------\u001b[0m",
      "\u001b[0;31mTypeError\u001b[0m                                 Traceback (most recent call last)",
      "Cell \u001b[0;32mIn[6], line 3\u001b[0m\n\u001b[1;32m      1\u001b[0m \u001b[38;5;66;03m#7.2\u001b[39;00m\n\u001b[0;32m----> 3\u001b[0m obj_1 \u001b[38;5;241m=\u001b[39m \u001b[43mMyClass\u001b[49m\u001b[43m(\u001b[49m\u001b[38;5;124;43m\"\u001b[39;49m\u001b[38;5;124;43mThis is not a pipe\u001b[39;49m\u001b[38;5;124;43m\"\u001b[39;49m\u001b[43m)\u001b[49m\n",
      "\u001b[0;31mTypeError\u001b[0m: MyClass() takes no arguments"
     ]
    }
   ],
   "source": [
    "#7.2\n",
    "\n",
    "obj_1 = MyClass(\"This is not a pipe\")\n",
    "\n",
    "\n",
    "\n"
   ]
  },
  {
   "cell_type": "code",
   "execution_count": 7,
   "id": "95dfbf34-9235-4612-923b-7e8b9f75997f",
   "metadata": {
    "tags": []
   },
   "outputs": [
    {
     "ename": "NameError",
     "evalue": "name 'obj_1' is not defined",
     "output_type": "error",
     "traceback": [
      "\u001b[0;31m---------------------------------------------------------------------------\u001b[0m",
      "\u001b[0;31mNameError\u001b[0m                                 Traceback (most recent call last)",
      "Cell \u001b[0;32mIn[7], line 1\u001b[0m\n\u001b[0;32m----> 1\u001b[0m \u001b[43mobj_1\u001b[49m\u001b[38;5;241m.\u001b[39matt1, obj_1\u001b[38;5;241m.\u001b[39matt2\n",
      "\u001b[0;31mNameError\u001b[0m: name 'obj_1' is not defined"
     ]
    }
   ],
   "source": [
    "obj_1.att1, obj_1.att2"
   ]
  },
  {
   "cell_type": "code",
   "execution_count": null,
   "id": "3e83d2dc-9e5b-47ce-a688-0695f4b6f1ef",
   "metadata": {},
   "outputs": [],
   "source": [
    "obj_1.add()"
   ]
  },
  {
   "cell_type": "code",
   "execution_count": 10,
   "id": "6beabdb5-e80a-491a-9f4c-7498e75ac6d6",
   "metadata": {
    "tags": []
   },
   "outputs": [],
   "source": [
    "#7.3\n",
    "\n",
    "import pandas as pd\n",
    "\n",
    "class Student:\n",
    "    \n",
    "    def __int__(self, student_name, student_id):\n",
    "        self.name = student_name\n",
    "        self.id = student_id\n",
    "        self.grades = pd.Series(dtype = float)\n",
    "    \n",
    "    def add_grade(self, assignment, grade):\n",
    "        self.grades.loc(assignment) == grade\n",
    "        \n",
    "    def show_grades(self):\n",
    "        self.grades.plot.bar(title = f\"Grades for {self.name} ({self.id})\")\n",
    "    \n",
    "    "
   ]
  },
  {
   "cell_type": "code",
   "execution_count": null,
   "id": "ed1a5a29-d428-48fe-8292-12c3dcb4546c",
   "metadata": {},
   "outputs": [],
   "source": [
    "#7.4\n",
    "\n",
    "student1 = Student(\"Carolyn Olivia, co43r\")\n",
    "\n"
   ]
  },
  {
   "cell_type": "code",
   "execution_count": 11,
   "id": "3e0096fd-7a28-4b68-b4dd-6ec6b668f331",
   "metadata": {
    "tags": []
   },
   "outputs": [],
   "source": [
    "#7.7\n",
    "\n",
    "from math import pi\n",
    "\n",
    "class Circle():\n",
    "    \n",
    "    def __int__(self, radius):\n",
    "        self.radius = radius\n",
    "        \n",
    "    def get_area(self):\n",
    "        self.area = round(self.radius ** 2 * pi, 2)\n",
    "        \n",
    "    def get_circumference(self):\n",
    "        self.circumference = round(2 * self.radius * pi, 2)\n",
    "        \n",
    "    \n",
    "    "
   ]
  },
  {
   "cell_type": "code",
   "execution_count": 12,
   "id": "939be9f5-3852-4c1c-ace0-c631b9cf2fee",
   "metadata": {
    "tags": []
   },
   "outputs": [
    {
     "ename": "TypeError",
     "evalue": "Circle() takes no arguments",
     "output_type": "error",
     "traceback": [
      "\u001b[0;31m---------------------------------------------------------------------------\u001b[0m",
      "\u001b[0;31mTypeError\u001b[0m                                 Traceback (most recent call last)",
      "Cell \u001b[0;32mIn[12], line 1\u001b[0m\n\u001b[0;32m----> 1\u001b[0m my_circle \u001b[38;5;241m=\u001b[39m \u001b[43mCircle\u001b[49m\u001b[43m(\u001b[49m\u001b[38;5;241;43m8\u001b[39;49m\u001b[43m)\u001b[49m\n\u001b[1;32m      2\u001b[0m my_circle\u001b[38;5;241m.\u001b[39mget_area()\n\u001b[1;32m      3\u001b[0m my_circle\u001b[38;5;241m.\u001b[39mget_circumference()\n",
      "\u001b[0;31mTypeError\u001b[0m: Circle() takes no arguments"
     ]
    }
   ],
   "source": [
    "my_circle = Circle(8)\n",
    "my_circle.get_area()\n",
    "my_circle.get_circumference()\n",
    "\n"
   ]
  },
  {
   "cell_type": "code",
   "execution_count": 13,
   "id": "cd01178e-1aac-4b52-9d8b-c58bf43f6042",
   "metadata": {
    "tags": []
   },
   "outputs": [
    {
     "ename": "NameError",
     "evalue": "name 'my_circle' is not defined",
     "output_type": "error",
     "traceback": [
      "\u001b[0;31m---------------------------------------------------------------------------\u001b[0m",
      "\u001b[0;31mNameError\u001b[0m                                 Traceback (most recent call last)",
      "Cell \u001b[0;32mIn[13], line 1\u001b[0m\n\u001b[0;32m----> 1\u001b[0m \u001b[38;5;28mprint\u001b[39m(\u001b[38;5;124m\"\u001b[39m\u001b[38;5;124mA:\u001b[39m\u001b[38;5;124m\"\u001b[39m, \u001b[43mmy_circle\u001b[49m\u001b[38;5;241m.\u001b[39marea)\n\u001b[1;32m      2\u001b[0m \u001b[38;5;28mprint\u001b[39m(\u001b[38;5;124m\"\u001b[39m\u001b[38;5;124mC:\u001b[39m\u001b[38;5;124m\"\u001b[39m, my_circumference)\n",
      "\u001b[0;31mNameError\u001b[0m: name 'my_circle' is not defined"
     ]
    }
   ],
   "source": [
    "print(\"A:\", my_circle.area)\n",
    "print(\"C:\", my_circumference)"
   ]
  },
  {
   "cell_type": "code",
   "execution_count": null,
   "id": "2e8994ea-e158-4251-9954-5196c68e610c",
   "metadata": {},
   "outputs": [],
   "source": []
  }
 ],
 "metadata": {
  "kernelspec": {
   "display_name": "Python 3 (ipykernel)",
   "language": "python",
   "name": "python3"
  },
  "language_info": {
   "codemirror_mode": {
    "name": "ipython",
    "version": 3
   },
   "file_extension": ".py",
   "mimetype": "text/x-python",
   "name": "python",
   "nbconvert_exporter": "python",
   "pygments_lexer": "ipython3",
   "version": "3.11.4"
  }
 },
 "nbformat": 4,
 "nbformat_minor": 5
}
