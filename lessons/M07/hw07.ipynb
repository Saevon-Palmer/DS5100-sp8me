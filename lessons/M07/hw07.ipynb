{
 "cells": [
  {
   "cell_type": "markdown",
   "id": "151b5ec8-0bbb-4295-bd9f-dd8f859f7d14",
   "metadata": {},
   "source": [
    "# Metadata\n",
    "\n",
    "```yaml\n",
    "Course:  DS 5100\n",
    "Module:  07 Python Classes\n",
    "Topic:   HW 07 Stock Class\n",
    "Author:  R.C. Alvarado\n",
    "Date:    7 July 2023\n",
    "```"
   ]
  },
  {
   "cell_type": "markdown",
   "id": "36f46fdd-2405-4dc8-9ea1-33f395e56cc0",
   "metadata": {},
   "source": [
    "# Student Info\n",
    "\n",
    "* Name:  Sae'von Palmer\n",
    "* Net UD: sp8me\n",
    "* URL of this file in GitHub:"
   ]
  },
  {
   "cell_type": "markdown",
   "id": "375875a8-1503-46eb-8ea1-7e5bf39b5c41",
   "metadata": {},
   "source": [
    "# Instructions\n",
    "\n",
    "In your **private course repo on Rivanna**, use this Jupyter notebook and the data file described to write code that performs the tasks below. \n",
    "\n",
    "Save your notebook in the `M07` directory.\n",
    "\n",
    "Remember to add and commit these files to your repo. \n",
    "\n",
    "Then push your commits to your repo on GitHib.\n",
    "\n",
    "Be sure to fill out the **Student Info** block above.\n",
    "\n",
    "To submit your homework, save the notebook as a PDF and upload it to GradeScope, following the instructions.\n",
    "\n",
    "**TOTAL POINTS: 12**"
   ]
  },
  {
   "cell_type": "markdown",
   "id": "74b029c0-da00-4543-b45c-0432c40824d2",
   "metadata": {},
   "source": [
    "# Overview\n",
    "\n",
    "In this assignment you will define a class and use it to perform the requested tasks.\n",
    "\n",
    "Before answering the questions, read the market data from `apple_data.csv` into a Pandas dataframe. The file is in the HW for this module in the course repo."
   ]
  },
  {
   "cell_type": "markdown",
   "id": "08b68b0a-43ba-42cc-82ed-e6f638709640",
   "metadata": {},
   "source": [
    "# Setting Up"
   ]
  },
  {
   "cell_type": "code",
   "execution_count": 1,
   "id": "c5c3ed31-c34b-4758-9c1d-7a634c04c8d9",
   "metadata": {
    "tags": []
   },
   "outputs": [],
   "source": [
    "import pandas as pd\n",
    "import numpy as np"
   ]
  },
  {
   "cell_type": "markdown",
   "id": "29fcbc31-0c57-4d90-b99d-feac28d1fdb1",
   "metadata": {},
   "source": [
    "# Prepare the Data\n",
    "\n",
    "Read in the dataset from the attached file `apple_data.csv` using `pd.read_csv()`.  "
   ]
  },
  {
   "cell_type": "code",
   "execution_count": 3,
   "id": "93702ce6-e90a-4f53-aedf-848b5fb10352",
   "metadata": {
    "tags": []
   },
   "outputs": [],
   "source": [
    "df = pd.read_csv(\"apple_data-2.csv\")"
   ]
  },
  {
   "cell_type": "markdown",
   "id": "dcd16641-2622-4617-83ad-4e1851de2916",
   "metadata": {
    "tags": []
   },
   "source": [
    "# Task 1 \n",
    "\n",
    "(5 PTS) \n",
    "\n",
    "Define a class with these features:\n",
    "\n",
    "**Class Name**: `Stock`\n",
    "\n",
    "**Attributes**:\n",
    "- `ticker`: a string to hold the stock symbol\n",
    "- `sector`: a string to hold the sector name\n",
    "- `prices`: a dataframe to hold the prices for the stock\n",
    "\n",
    "**Methods**:\n",
    "- `print_sector` to just print out the sector string.\n",
    "- `get_row_count` to count the number of rows in the price dataframe. Set an attribute \"price_records\" equal to this count.\n",
    "-`__init__` to build objects. Initialize with the three attribute values passed to the constructor."
   ]
  },
  {
   "cell_type": "code",
   "execution_count": 4,
   "id": "8629f94c-8247-485a-b9f6-f532f3f555a5",
   "metadata": {
    "tags": []
   },
   "outputs": [],
   "source": [
    "class Stock:\n",
    "    \n",
    "    \"This is a class called Stock that holds three attributes and two methods\"\n",
    "    \n",
    "    def __init__(self, ticker: str, sector: str, prices: pd.DataFrame):\n",
    "        self.ticker = ticker\n",
    "        self.sector = sector\n",
    "        self.prices = prices\n",
    "        self.price_records = 0  \n",
    "\n",
    "    def print_sector(self):\n",
    "        print(self.sector)\n",
    "\n",
    "    def get_row_count(self):\n",
    "        self.price_records = len(self.prices)\n",
    "        return self.price_records\n",
    "    "
   ]
  },
  {
   "cell_type": "markdown",
   "id": "36e8edcc-1aa8-48e3-9f8c-4944a054e0e8",
   "metadata": {},
   "source": [
    "# Task 2\n",
    "\n",
    "(1 PT) \n",
    "\n",
    "Create an instance of your class with the these initial values: \n",
    "- `ticker`: 'AAPL'\n",
    "- `sector`: 'technology'\n",
    "- `prices`: _the imported price dataframe_\n",
    "          \n",
    "Then Use the dot operator to print the stock's ticker.   "
   ]
  },
  {
   "cell_type": "code",
   "execution_count": 5,
   "id": "0c641f40-4723-4623-8a8d-62998fb33f54",
   "metadata": {
    "tags": []
   },
   "outputs": [
    {
     "name": "stdout",
     "output_type": "stream",
     "text": [
      "AAPL\n"
     ]
    }
   ],
   "source": [
    "\n",
    "# Create an instance of the Stock class\n",
    "applestock = Stock(\"AAPL\", \"technology\", df)\n",
    "\n",
    "# Print the stock's ticker using the dot operator\n",
    "print(applestock.ticker)"
   ]
  },
  {
   "cell_type": "markdown",
   "id": "80f97759-70ee-421c-8346-ebd774b19cc6",
   "metadata": {},
   "source": [
    "# Task 3 \n",
    "\n",
    "(1 PT) \n",
    "\n",
    "Use the `print_sector()` method to print the sector."
   ]
  },
  {
   "cell_type": "code",
   "execution_count": 6,
   "id": "68aa3dc1-1aa1-458c-ac9c-a0c9416f6f7a",
   "metadata": {
    "tags": []
   },
   "outputs": [
    {
     "name": "stdout",
     "output_type": "stream",
     "text": [
      "technology\n"
     ]
    }
   ],
   "source": [
    "applestock.print_sector()"
   ]
  },
  {
   "cell_type": "markdown",
   "id": "52fc8054-8867-4693-915a-f41026abd9b1",
   "metadata": {},
   "source": [
    "# Task 4 \n",
    "\n",
    "(2 PTS) \n",
    "\n",
    "Use the `get_row_count()` method to compute the number of price records and set price_records.\n",
    "\n",
    "Use the dot operator to access the stock's price_records, printing the result."
   ]
  },
  {
   "cell_type": "code",
   "execution_count": 7,
   "id": "347b7ae5-b2cc-42f1-899e-661414745eaf",
   "metadata": {
    "tags": []
   },
   "outputs": [
    {
     "name": "stdout",
     "output_type": "stream",
     "text": [
      "135\n"
     ]
    }
   ],
   "source": [
    "# Compute and set the number of price records\n",
    "applestock.get_row_count()\n",
    "\n",
    "# Access and print the price_records attribute\n",
    "print(applestock.price_records)"
   ]
  },
  {
   "cell_type": "markdown",
   "id": "9e477fd4-c44f-49d5-b42d-dbaf1ee37521",
   "metadata": {},
   "source": [
    "# Task 5\n",
    "\n",
    "(1 PT) \n",
    "\n",
    "Add a new column called `'month'` to the `prices` attribute and put the month number there. \n",
    "\n",
    "Hint: You can use `.apply()` with a lambda function to split the month string and keep the second element."
   ]
  },
  {
   "cell_type": "code",
   "execution_count": 12,
   "id": "3fbb6d08-4382-49c3-a9e2-8879c865530b",
   "metadata": {
    "tags": []
   },
   "outputs": [
    {
     "name": "stdout",
     "output_type": "stream",
     "text": [
      "        date   adj_close  month\n",
      "0 2020-01-02  298.829956      1\n",
      "1 2020-01-03  295.924713      1\n",
      "2 2020-01-06  298.282715      1\n",
      "3 2020-01-07  296.879883      1\n",
      "4 2020-01-08  301.655548      1\n"
     ]
    }
   ],
   "source": [
    "\n",
    "df['date'] = pd.to_datetime(df['date'])\n",
    "\n",
    "\n",
    "applestock.prices['month'] = applestock.prices['date'].apply(lambda x: x.month)\n",
    "\n",
    "# Display the first few rows to check the new column\n",
    "print(applestock.prices.head())\n"
   ]
  },
  {
   "cell_type": "markdown",
   "id": "673d38d1-b804-4bc4-98c5-a7e167371701",
   "metadata": {},
   "source": [
    "# Task 6\n",
    "\n",
    "(1 PT)\n",
    "\n",
    "Use `.groupby()` to compute the mean `adj_close` by month. Save your result is a dataframe, not a series."
   ]
  },
  {
   "cell_type": "code",
   "execution_count": 11,
   "id": "bb94ad3c-3e59-4fe3-8a6d-e46ae4969142",
   "metadata": {
    "tags": []
   },
   "outputs": [
    {
     "name": "stdout",
     "output_type": "stream",
     "text": [
      "   month   adj_close\n",
      "0      1  310.337596\n",
      "1      2  310.271843\n",
      "2      3  261.735581\n",
      "3      4  271.650839\n",
      "4      5  309.785164\n",
      "5      6  345.806360\n",
      "6      7  378.385999\n"
     ]
    }
   ],
   "source": [
    "# Group by 'month' and compute the mean of 'adj_close', keeping the result as a DataFrame\n",
    "mean_adj_close = applestock.prices.groupby('month', as_index=False)['adj_close'].mean()\n",
    "\n",
    "# Display the resulting DataFrame\n",
    "print(mean_adj_close)"
   ]
  },
  {
   "cell_type": "code",
   "execution_count": 40,
   "id": "b5b4e8f9-77bd-4d3c-8bd8-e6f3270ce28a",
   "metadata": {},
   "outputs": [],
   "source": [
    "# Another method\n",
    "# my_stock.prices.groupby('month').agg({'adj_close':'mean'})"
   ]
  },
  {
   "cell_type": "markdown",
   "id": "6c63b7c5-dfd5-4bba-932c-0541c8d0e002",
   "metadata": {},
   "source": [
    "# Task 7\n",
    "\n",
    "(1 PT)\n",
    "\n",
    "Plot the mean `adj_close` by month using a simple line plot."
   ]
  },
  {
   "cell_type": "code",
   "execution_count": 13,
   "id": "5529c213-82a8-49d2-a219-dbdd137a7ef5",
   "metadata": {
    "tags": []
   },
   "outputs": [
    {
     "data": {
      "text/plain": [
       "<Axes: >"
      ]
     },
     "execution_count": 13,
     "metadata": {},
     "output_type": "execute_result"
    },
    {
     "data": {
      "image/png": "[encoded data removed]",
      "text/plain": [
       "<Figure size 1000x500 with 1 Axes>"
      ]
     },
     "metadata": {},
     "output_type": "display_data"
    }
   ],
   "source": [
    "# Plot of the mean\n",
    "mean_adj_close.plot(kind='line', marker='o', figsize=(10, 5))"
   ]
  },
  {
   "cell_type": "code",
   "execution_count": null,
   "id": "4d559f55-9db0-4e6f-94d7-bd1a44c079ac",
   "metadata": {},
   "outputs": [],
   "source": []
  }
 ],
 "metadata": {
  "kernelspec": {
   "display_name": "Python 3 (ipykernel)",
   "language": "python",
   "name": "python3"
  },
  "language_info": {
   "codemirror_mode": {
    "name": "ipython",
    "version": 3
   },
   "file_extension": ".py",
   "mimetype": "text/x-python",
   "name": "python",
   "nbconvert_exporter": "python",
   "pygments_lexer": "ipython3",
   "version": "3.11.4"
  },
  "vscode": {
   "interpreter": {
    "hash": "c3b963de08c47c3b6758389c5e0978ad73698a111eb508d4e16b558edb8f4cbf"
   }
  },
  "widgets": {
   "application/vnd.jupyter.widget-state+json": {
    "state": {},
    "version_major": 2,
    "version_minor": 0
   }
  }
 },
 "nbformat": 4,
 "nbformat_minor": 5
}
