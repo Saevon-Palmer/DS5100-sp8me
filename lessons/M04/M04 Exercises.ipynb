{
 "cells": [
  {
   "cell_type": "code",
   "execution_count": 1,
   "id": "8d9fd7bc-ba0a-417c-875a-01a6a2cafccc",
   "metadata": {
    "tags": []
   },
   "outputs": [],
   "source": [
    "#4.1\n",
    "\n",
    "def function1 (text, value):\n",
    "    \n",
    "    \n",
    "    \n",
    "    \n",
    "    \n",
    "    \n",
    "    return len(text) == value"
   ]
  },
  {
   "cell_type": "code",
   "execution_count": 2,
   "id": "e1135d45-2c0d-4e2f-b7a0-db11756be48a",
   "metadata": {
    "tags": []
   },
   "outputs": [],
   "source": [
    "#4.2\n",
    "\n",
    "def function2 (*argue):\n",
    "    for argu in argue:\n",
    "        print(argu**2)\n",
    "    return None"
   ]
  },
  {
   "cell_type": "code",
   "execution_count": null,
   "id": "0dd96109-b44d-409e-b7cd-44904a7afa56",
   "metadata": {},
   "outputs": [],
   "source": [
    "#4.3\n",
    "\n",
    "def make_numeronym(word):\n",
    "    if word isinstance(word,str) or len(word) < 4:\n",
    "        print(f\"{word} is either not a string or is too short.\")\n",
    "        \n",
    "    return f\"{"
   ]
  },
  {
   "cell_type": "code",
   "execution_count": 4,
   "id": "452cda91-41df-452e-9988-0cafb0f2ec74",
   "metadata": {
    "tags": []
   },
   "outputs": [
    {
     "data": {
      "text/plain": [
       "1"
      ]
     },
     "execution_count": 4,
     "metadata": {},
     "output_type": "execute_result"
    }
   ],
   "source": [
    "#4.4\n",
    "\n",
    "def function3(number):\n",
    "    diff = number - 5\n",
    "    if diff >= 0:\n",
    "        return 1\n",
    "    return 0\n",
    "\n",
    "function3(24)"
   ]
  },
  {
   "cell_type": "code",
   "execution_count": null,
   "id": "4c7af791-2962-4bc3-bf85-aa93103514f9",
   "metadata": {},
   "outputs": [],
   "source": [
    "#4.5\n",
    "\n",
    "def my_func:\n",
    "    "
   ]
  },
  {
   "cell_type": "code",
   "execution_count": null,
   "id": "ee34db65-dda5-4187-ac9a-afe567892ab1",
   "metadata": {},
   "outputs": [],
   "source": [
    "#4.6\n",
    "\n",
    "func = lambda x : x >= 10 and x <= 25"
   ]
  },
  {
   "cell_type": "code",
   "execution_count": null,
   "id": "c1cd55b9-5024-4a89-b4cd-de4fcbe21e3d",
   "metadata": {},
   "outputs": [],
   "source": [
    "#4.7\n",
    "\n",
    "in_range_general"
   ]
  },
  {
   "cell_type": "code",
   "execution_count": null,
   "id": "7a04a60b-d885-4b3f-bdf9-267f9a78c9dd",
   "metadata": {},
   "outputs": [],
   "source": [
    "#4.9\n",
    "\n",
    "gets = (\"f\": c2f, \"c\": f2c\n",
    "\n"
   ]
  }
 ],
 "metadata": {
  "kernelspec": {
   "display_name": "Python 3 (ipykernel)",
   "language": "python",
   "name": "python3"
  },
  "language_info": {
   "codemirror_mode": {
    "name": "ipython",
    "version": 3
   },
   "file_extension": ".py",
   "mimetype": "text/x-python",
   "name": "python",
   "nbconvert_exporter": "python",
   "pygments_lexer": "ipython3",
   "version": "3.11.4"
  }
 },
 "nbformat": 4,
 "nbformat_minor": 5
}
