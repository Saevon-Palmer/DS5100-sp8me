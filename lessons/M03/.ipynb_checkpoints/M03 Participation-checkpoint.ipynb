{
 "cells": [
  {
   "cell_type": "code",
   "execution_count": null,
   "id": "50519bf7-66eb-4dca-b402-a5a5ea588f02",
   "metadata": {},
   "outputs": [],
   "source": [
    "#3.1 \n",
    "\n",
    "# would print nothing\n"
   ]
  },
  {
   "cell_type": "code",
   "execution_count": 10,
   "id": "b2d74752-f867-4e72-8d07-77a3b2b65079",
   "metadata": {
    "tags": []
   },
   "outputs": [
    {
     "name": "stdout",
     "output_type": "stream",
     "text": [
      "-2\n",
      "8\n",
      "0\n",
      "5\n",
      "6\n"
     ]
    }
   ],
   "source": [
    "#3.2\n",
    "\n",
    "xx = [-2, 8, 0, 5, 6]\n",
    "max_val = max(xx)\n",
    "for x in xx:\n",
    "    \n",
    "    if x < max_val:\n",
    "        print(x)\n",
    "    else:\n",
    "        print(max_val)\n",
    "\n"
   ]
  },
  {
   "cell_type": "code",
   "execution_count": 13,
   "id": "354a9f8f-2a92-49e2-a6a1-d57fb4d315a1",
   "metadata": {
    "tags": []
   },
   "outputs": [
    {
     "name": "stdout",
     "output_type": "stream",
     "text": [
      "0\n",
      "10\n",
      "20\n",
      "30\n",
      "40\n",
      "50\n",
      "60\n",
      "70\n",
      "80\n",
      "90\n"
     ]
    }
   ],
   "source": [
    "#3.3\n",
    "\n",
    "it = 0\n",
    "max_iter = 100\n",
    "\n",
    "while it < max_iter:\n",
    "    if it == 0 or it % 10 == 0:\n",
    "        print(it)\n",
    "    it+=1\n",
    "    \n",
    "    if it >= max_iter:\n",
    "        break\n",
    "        \n",
    "    "
   ]
  },
  {
   "cell_type": "code",
   "execution_count": 16,
   "id": "63acb7fa-ce15-4645-ab42-099b7aafa157",
   "metadata": {
    "tags": []
   },
   "outputs": [
    {
     "name": "stdout",
     "output_type": "stream",
     "text": [
      "hank\n",
      "jen\n",
      "larry\n",
      "mike\n"
     ]
    }
   ],
   "source": [
    "#3.4\n",
    "\n",
    "my_list = [\"Hank\",\"Jen\", \"Larry\", \"Mike\"]\n",
    "\n",
    "for i in my_list:\n",
    "    i.lower()\n",
    "    print(i.lower())"
   ]
  },
  {
   "cell_type": "code",
   "execution_count": 21,
   "id": "7e3f5d4f-f622-46d6-bf5c-d6790999ef8a",
   "metadata": {
    "tags": []
   },
   "outputs": [
    {
     "name": "stdout",
     "output_type": "stream",
     "text": [
      "Hank\n",
      "Jen\n",
      "Larry\n",
      "Mike\n"
     ]
    }
   ],
   "source": [
    "#3.5\n",
    "for i in iter(my_list):\n",
    "    print(i)\n",
    "    "
   ]
  },
  {
   "cell_type": "code",
   "execution_count": 22,
   "id": "641b6f0e-4fdc-4cff-882d-4b2a8137e47c",
   "metadata": {
    "tags": []
   },
   "outputs": [
    {
     "name": "stdout",
     "output_type": "stream",
     "text": [
      "Winchester 22601\n",
      "Charlottesville 22904\n"
     ]
    }
   ],
   "source": [
    "dictionary = {\"Winchester\": 22601, \"Charlottesville\": 22904}\n",
    "\n",
    "\n",
    "for i,j in dictionary.items():\n",
    "    print(i,j)\n",
    "    "
   ]
  },
  {
   "cell_type": "code",
   "execution_count": 24,
   "id": "1d735eff-9c97-4cf1-b2aa-e7fe7741ea7b",
   "metadata": {
    "tags": []
   },
   "outputs": [
    {
     "name": "stdout",
     "output_type": "stream",
     "text": [
      "Winchester\n",
      "Charlottesville\n"
     ]
    }
   ],
   "source": [
    "#3.7\n",
    "\n",
    "for i in dictionary.keys():\n",
    "    print(i)\n",
    "    "
   ]
  },
  {
   "cell_type": "code",
   "execution_count": null,
   "id": "654b927e-95a2-4d99-ba4a-eed3378410eb",
   "metadata": {},
   "outputs": [],
   "source": []
  }
 ],
 "metadata": {
  "kernelspec": {
   "display_name": "Python 3 (ipykernel)",
   "language": "python",
   "name": "python3"
  },
  "language_info": {
   "codemirror_mode": {
    "name": "ipython",
    "version": 3
   },
   "file_extension": ".py",
   "mimetype": "text/x-python",
   "name": "python",
   "nbconvert_exporter": "python",
   "pygments_lexer": "ipython3",
   "version": "3.11.4"
  }
 },
 "nbformat": 4,
 "nbformat_minor": 5
}
