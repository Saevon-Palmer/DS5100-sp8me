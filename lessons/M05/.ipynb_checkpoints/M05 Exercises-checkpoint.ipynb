{
 "cells": [
  {
   "cell_type": "code",
   "execution_count": 3,
   "id": "826881b5-f73a-45fa-8f0f-8bc7ffbf4704",
   "metadata": {
    "tags": []
   },
   "outputs": [
    {
     "ename": "SyntaxError",
     "evalue": "incomplete input (50079574.py, line 9)",
     "output_type": "error",
     "traceback": [
      "\u001b[0;36m  Cell \u001b[0;32mIn[3], line 9\u001b[0;36m\u001b[0m\n\u001b[0;31m    \u001b[0m\n\u001b[0m    ^\u001b[0m\n\u001b[0;31mSyntaxError\u001b[0m\u001b[0;31m:\u001b[0m incomplete input\n"
     ]
    }
   ],
   "source": [
    "#5.1\n",
    "\n",
    "import time\n",
    "\n",
    "values = []\n",
    "\n",
    "for i in range (100001):\n",
    "    if i %2 == 1:\n",
    "        "
   ]
  },
  {
   "cell_type": "code",
   "execution_count": null,
   "id": "fb370c15-9909-46b3-b3e6-47c583102029",
   "metadata": {},
   "outputs": [],
   "source": [
    "#5.2\n",
    "import time\n",
    "\n",
    "t0 = time.time()\n",
    "\n",
    "value = (i = -1 if % 2 == 1 else i for i in range 100001)\n"
   ]
  },
  {
   "cell_type": "code",
   "execution_count": 15,
   "id": "86e22d89-9225-42a6-b628-26a08464c16d",
   "metadata": {
    "tags": []
   },
   "outputs": [
    {
     "data": {
      "text/plain": [
       "array([1, 2, 1, 2, 3, 1, 5, 1, 5, 6])"
      ]
     },
     "execution_count": 15,
     "metadata": {},
     "output_type": "execute_result"
    }
   ],
   "source": [
    "#5.3\n",
    " \n",
    "\n",
    "import numpy as np\n",
    "num = np.random.randint(1,7,10)\n",
    "\n",
    "num"
   ]
  },
  {
   "cell_type": "code",
   "execution_count": 16,
   "id": "3051839d-6d39-4c90-b7c4-af80fe88e398",
   "metadata": {
    "tags": []
   },
   "outputs": [
    {
     "data": {
      "text/plain": [
       "numpy.ndarray"
      ]
     },
     "execution_count": 16,
     "metadata": {},
     "output_type": "execute_result"
    }
   ],
   "source": [
    "#5.4\n",
    "\n",
    "a1 = np.random.randint(10)\n",
    "\n",
    "type(a1)\n",
    "\n",
    "\n",
    "a2 = np.random.randint(1, 21, 5)\n",
    "\n",
    "type(a2)"
   ]
  },
  {
   "cell_type": "code",
   "execution_count": 19,
   "id": "10536858-a1c7-4b84-b471-80bd5e81297f",
   "metadata": {
    "tags": []
   },
   "outputs": [],
   "source": [
    "#5.5\n",
    "\n",
    "from matplotlib.pyplot import hist\n",
    "\n"
   ]
  },
  {
   "cell_type": "code",
   "execution_count": 20,
   "id": "1ede7662-3328-48e0-83a6-6f7a630b3f67",
   "metadata": {
    "tags": []
   },
   "outputs": [
    {
     "data": {
      "text/plain": [
       "array([[ 1.07038395,  0.01438363,  2.42458469],\n",
       "       [ 1.01589677,  2.29661023, -1.21666088]])"
      ]
     },
     "execution_count": 20,
     "metadata": {},
     "output_type": "execute_result"
    }
   ],
   "source": [
    "#5.6\n",
    "\n",
    "a = np.random.randn(2,3)\n",
    "a"
   ]
  },
  {
   "cell_type": "code",
   "execution_count": null,
   "id": "c6aed9cf-8e6f-445c-8988-ac484d2305db",
   "metadata": {},
   "outputs": [],
   "source": [
    "#5.7\n",
    "\n"
   ]
  },
  {
   "cell_type": "code",
   "execution_count": null,
   "id": "bccb7399-926e-4ea3-8a42-7143e82432c3",
   "metadata": {},
   "outputs": [],
   "source": [
    "#5.8"
   ]
  },
  {
   "cell_type": "code",
   "execution_count": 22,
   "id": "bc3ae189-9da0-4f8c-a54c-6afab076a716",
   "metadata": {
    "tags": []
   },
   "outputs": [
    {
     "ename": "NameError",
     "evalue": "name 'x' is not defined",
     "output_type": "error",
     "traceback": [
      "\u001b[0;31m---------------------------------------------------------------------------\u001b[0m",
      "\u001b[0;31mNameError\u001b[0m                                 Traceback (most recent call last)",
      "Cell \u001b[0;32mIn[22], line 3\u001b[0m\n\u001b[1;32m      1\u001b[0m \u001b[38;5;66;03m#5.9\u001b[39;00m\n\u001b[0;32m----> 3\u001b[0m \u001b[38;5;241m1\u001b[39m \u001b[38;5;241m/\u001b[39m \u001b[43mx\u001b[49m\n",
      "\u001b[0;31mNameError\u001b[0m: name 'x' is not defined"
     ]
    }
   ],
   "source": [
    "#5.9\n",
    "\n",
    "1 / x\n",
    "\n"
   ]
  },
  {
   "cell_type": "code",
   "execution_count": null,
   "id": "1693b8c2-d5f3-465a-a5b9-59618b9e8a89",
   "metadata": {},
   "outputs": [],
   "source": [
    "#5.10\n",
    "\n"
   ]
  },
  {
   "cell_type": "code",
   "execution_count": null,
   "id": "f023f341-9978-458e-aee0-fc37fbb6a35d",
   "metadata": {},
   "outputs": [],
   "source": [
    "#5.11"
   ]
  },
  {
   "cell_type": "code",
   "execution_count": 26,
   "id": "22536ecd-345c-40f5-9fb0-bacf3fcd23ea",
   "metadata": {
    "tags": []
   },
   "outputs": [
    {
     "ename": "SyntaxError",
     "evalue": "invalid syntax (868602550.py, line 3)",
     "output_type": "error",
     "traceback": [
      "\u001b[0;36m  Cell \u001b[0;32mIn[26], line 3\u001b[0;36m\u001b[0m\n\u001b[0;31m    a = np.random.randn<5>\u001b[0m\n\u001b[0m                          ^\u001b[0m\n\u001b[0;31mSyntaxError\u001b[0m\u001b[0;31m:\u001b[0m invalid syntax\n"
     ]
    }
   ],
   "source": [
    "#5.12\n",
    "\n",
    "a = np.random.randn5>\n",
    "a\n",
    "\n",
    "a[1:4]\n",
    "\n",
    "a[1:-1]"
   ]
  },
  {
   "cell_type": "code",
   "execution_count": null,
   "id": "5d4f777c-5fa3-452c-94f9-2b8c323beb2e",
   "metadata": {},
   "outputs": [],
   "source": [
    "#5.13\n",
    "\n"
   ]
  },
  {
   "cell_type": "code",
   "execution_count": 28,
   "id": "b7b5e01d-8b74-4740-a079-de5c62ef3709",
   "metadata": {
    "tags": []
   },
   "outputs": [
    {
     "data": {
      "text/plain": [
       "array([[ 0.31958546, -1.29670918, -0.27837359],\n",
       "       [-0.5307601 , -1.95226627,  0.19360365],\n",
       "       [ 1.11197713, -0.5318743 ,  0.2048081 ]])"
      ]
     },
     "execution_count": 28,
     "metadata": {},
     "output_type": "execute_result"
    }
   ],
   "source": [
    "#5.14\n",
    "a3 = np.random.randn(3,3)\n",
    "a3\n",
    "\n"
   ]
  },
  {
   "cell_type": "code",
   "execution_count": 29,
   "id": "58b43e3a-3a6b-441d-8c5c-fecde1a67d08",
   "metadata": {
    "tags": []
   },
   "outputs": [
    {
     "data": {
      "text/plain": [
       "array([0.19360365, 0.2048081 ])"
      ]
     },
     "execution_count": 29,
     "metadata": {},
     "output_type": "execute_result"
    }
   ],
   "source": [
    "a3[1: , -1]"
   ]
  },
  {
   "cell_type": "code",
   "execution_count": 30,
   "id": "3895d569-8e55-4179-9d35-76fb5179970b",
   "metadata": {
    "tags": []
   },
   "outputs": [
    {
     "data": {
      "text/plain": [
       "array([[-0.5307601 , -1.95226627],\n",
       "       [ 1.11197713, -0.5318743 ]])"
      ]
     },
     "execution_count": 30,
     "metadata": {},
     "output_type": "execute_result"
    }
   ],
   "source": [
    "a3[1:, :2]"
   ]
  },
  {
   "cell_type": "code",
   "execution_count": null,
   "id": "22e0ccb3-2372-41ad-8b4f-54944a5ac47d",
   "metadata": {},
   "outputs": [],
   "source": []
  }
 ],
 "metadata": {
  "kernelspec": {
   "display_name": "Python 3 (ipykernel)",
   "language": "python",
   "name": "python3"
  },
  "language_info": {
   "codemirror_mode": {
    "name": "ipython",
    "version": 3
   },
   "file_extension": ".py",
   "mimetype": "text/x-python",
   "name": "python",
   "nbconvert_exporter": "python",
   "pygments_lexer": "ipython3",
   "version": "3.11.4"
  }
 },
 "nbformat": 4,
 "nbformat_minor": 5
}
